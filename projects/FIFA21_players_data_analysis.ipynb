{
 "cells": [
  {
   "cell_type": "markdown",
   "id": "be530487",
   "metadata": {},
   "source": [
    "# FIFA 21 Player Data\n",
    "\n",
    "⚽ Dataset: FIFA 21 Players\n",
    "\n",
    "Skills: Sports analytics, data filtering, distributions\n",
    "\n",
    "## Questions to answer:\n",
    "\n",
    "    - Who are the top 10 rated players overall?\n",
    "\n",
    "    - Plot the distribution of player ages.\n",
    "\n",
    "    - Which club has the most players?\n",
    "\n",
    "    - Which nationality has the highest average overall rating?\n",
    "\n",
    "    - Compare average player value of defenders vs. forwards.\n",
    "\n",
    "    - What’s the relationship between player rating and wage?\n",
    "\n",
    "    - Which young players (under 21) have the highest potential?\n",
    "\n",
    "    - Plot the top 5 countries with the most players.\n",
    "\n",
    "    - Create a scatter plot of height vs. weight for players."
   ]
  },
  {
   "cell_type": "code",
   "execution_count": 1,
   "id": "a3bbdb44",
   "metadata": {},
   "outputs": [],
   "source": [
    "import pandas as pd\n",
    "import numpy as np\n",
    "import matplotlib.pyplot as plt"
   ]
  },
  {
   "cell_type": "code",
   "execution_count": 6,
   "id": "636aa089",
   "metadata": {},
   "outputs": [
    {
     "name": "stdout",
     "output_type": "stream",
     "text": [
      "Saved as a CSV file for the 21 Sheet\n"
     ]
    }
   ],
   "source": [
    "# Get the data\n",
    "\n",
    "fifa21 = pd.read_excel('data/Career Mode player datasets - FIFA 15-21.xlsx', sheet_name='FIFA 21')\n",
    "\n",
    "# Save to csv\n",
    "\n",
    "fifa21.to_csv('data/fifa21.csv')\n",
    "print('Saved as a CSV file for the 21 Sheet')"
   ]
  },
  {
   "cell_type": "code",
   "execution_count": 149,
   "id": "823d7bc8",
   "metadata": {},
   "outputs": [
    {
     "data": {
      "text/html": [
       "<div>\n",
       "<style scoped>\n",
       "    .dataframe tbody tr th:only-of-type {\n",
       "        vertical-align: middle;\n",
       "    }\n",
       "\n",
       "    .dataframe tbody tr th {\n",
       "        vertical-align: top;\n",
       "    }\n",
       "\n",
       "    .dataframe thead th {\n",
       "        text-align: right;\n",
       "    }\n",
       "</style>\n",
       "<table border=\"1\" class=\"dataframe\">\n",
       "  <thead>\n",
       "    <tr style=\"text-align: right;\">\n",
       "      <th></th>\n",
       "      <th>Unnamed: 0</th>\n",
       "      <th>sofifa_id</th>\n",
       "      <th>player_url</th>\n",
       "      <th>short_name</th>\n",
       "      <th>long_name</th>\n",
       "      <th>age</th>\n",
       "      <th>dob</th>\n",
       "      <th>height_cm</th>\n",
       "      <th>weight_kg</th>\n",
       "      <th>nationality</th>\n",
       "      <th>...</th>\n",
       "      <th>lwb</th>\n",
       "      <th>ldm</th>\n",
       "      <th>cdm</th>\n",
       "      <th>rdm</th>\n",
       "      <th>rwb</th>\n",
       "      <th>lb</th>\n",
       "      <th>lcb</th>\n",
       "      <th>cb</th>\n",
       "      <th>rcb</th>\n",
       "      <th>rb</th>\n",
       "    </tr>\n",
       "  </thead>\n",
       "  <tbody>\n",
       "    <tr>\n",
       "      <th>0</th>\n",
       "      <td>0</td>\n",
       "      <td>158023</td>\n",
       "      <td>https://sofifa.com/player/158023/lionel-messi/...</td>\n",
       "      <td>L. Messi</td>\n",
       "      <td>Lionel Andrés Messi Cuccittini</td>\n",
       "      <td>33</td>\n",
       "      <td>1987-06-24</td>\n",
       "      <td>170</td>\n",
       "      <td>72</td>\n",
       "      <td>Argentina</td>\n",
       "      <td>...</td>\n",
       "      <td>66+3</td>\n",
       "      <td>65+3</td>\n",
       "      <td>65+3</td>\n",
       "      <td>65+3</td>\n",
       "      <td>66+3</td>\n",
       "      <td>62+3</td>\n",
       "      <td>52+3</td>\n",
       "      <td>52+3</td>\n",
       "      <td>52+3</td>\n",
       "      <td>62+3</td>\n",
       "    </tr>\n",
       "    <tr>\n",
       "      <th>1</th>\n",
       "      <td>1</td>\n",
       "      <td>20801</td>\n",
       "      <td>https://sofifa.com/player/20801/c-ronaldo-dos-...</td>\n",
       "      <td>Cristiano Ronaldo</td>\n",
       "      <td>Cristiano Ronaldo dos Santos Aveiro</td>\n",
       "      <td>35</td>\n",
       "      <td>1985-02-05</td>\n",
       "      <td>187</td>\n",
       "      <td>83</td>\n",
       "      <td>Portugal</td>\n",
       "      <td>...</td>\n",
       "      <td>65+3</td>\n",
       "      <td>61+3</td>\n",
       "      <td>61+3</td>\n",
       "      <td>61+3</td>\n",
       "      <td>65+3</td>\n",
       "      <td>61+3</td>\n",
       "      <td>54+3</td>\n",
       "      <td>54+3</td>\n",
       "      <td>54+3</td>\n",
       "      <td>61+3</td>\n",
       "    </tr>\n",
       "    <tr>\n",
       "      <th>2</th>\n",
       "      <td>2</td>\n",
       "      <td>200389</td>\n",
       "      <td>https://sofifa.com/player/200389/jan-oblak/210002</td>\n",
       "      <td>J. Oblak</td>\n",
       "      <td>Jan Oblak</td>\n",
       "      <td>27</td>\n",
       "      <td>1993-01-07</td>\n",
       "      <td>188</td>\n",
       "      <td>87</td>\n",
       "      <td>Slovenia</td>\n",
       "      <td>...</td>\n",
       "      <td>32+3</td>\n",
       "      <td>36+3</td>\n",
       "      <td>36+3</td>\n",
       "      <td>36+3</td>\n",
       "      <td>32+3</td>\n",
       "      <td>32+3</td>\n",
       "      <td>33+3</td>\n",
       "      <td>33+3</td>\n",
       "      <td>33+3</td>\n",
       "      <td>32+3</td>\n",
       "    </tr>\n",
       "    <tr>\n",
       "      <th>3</th>\n",
       "      <td>3</td>\n",
       "      <td>188545</td>\n",
       "      <td>https://sofifa.com/player/188545/robert-lewand...</td>\n",
       "      <td>R. Lewandowski</td>\n",
       "      <td>Robert Lewandowski</td>\n",
       "      <td>31</td>\n",
       "      <td>1988-08-21</td>\n",
       "      <td>184</td>\n",
       "      <td>80</td>\n",
       "      <td>Poland</td>\n",
       "      <td>...</td>\n",
       "      <td>64+3</td>\n",
       "      <td>65+3</td>\n",
       "      <td>65+3</td>\n",
       "      <td>65+3</td>\n",
       "      <td>64+3</td>\n",
       "      <td>61+3</td>\n",
       "      <td>60+3</td>\n",
       "      <td>60+3</td>\n",
       "      <td>60+3</td>\n",
       "      <td>61+3</td>\n",
       "    </tr>\n",
       "    <tr>\n",
       "      <th>4</th>\n",
       "      <td>4</td>\n",
       "      <td>190871</td>\n",
       "      <td>https://sofifa.com/player/190871/neymar-da-sil...</td>\n",
       "      <td>Neymar Jr</td>\n",
       "      <td>Neymar da Silva Santos Júnior</td>\n",
       "      <td>28</td>\n",
       "      <td>1992-02-05</td>\n",
       "      <td>175</td>\n",
       "      <td>68</td>\n",
       "      <td>Brazil</td>\n",
       "      <td>...</td>\n",
       "      <td>67+3</td>\n",
       "      <td>62+3</td>\n",
       "      <td>62+3</td>\n",
       "      <td>62+3</td>\n",
       "      <td>67+3</td>\n",
       "      <td>62+3</td>\n",
       "      <td>49+3</td>\n",
       "      <td>49+3</td>\n",
       "      <td>49+3</td>\n",
       "      <td>62+3</td>\n",
       "    </tr>\n",
       "    <tr>\n",
       "      <th>...</th>\n",
       "      <td>...</td>\n",
       "      <td>...</td>\n",
       "      <td>...</td>\n",
       "      <td>...</td>\n",
       "      <td>...</td>\n",
       "      <td>...</td>\n",
       "      <td>...</td>\n",
       "      <td>...</td>\n",
       "      <td>...</td>\n",
       "      <td>...</td>\n",
       "      <td>...</td>\n",
       "      <td>...</td>\n",
       "      <td>...</td>\n",
       "      <td>...</td>\n",
       "      <td>...</td>\n",
       "      <td>...</td>\n",
       "      <td>...</td>\n",
       "      <td>...</td>\n",
       "      <td>...</td>\n",
       "      <td>...</td>\n",
       "      <td>...</td>\n",
       "    </tr>\n",
       "    <tr>\n",
       "      <th>18939</th>\n",
       "      <td>18939</td>\n",
       "      <td>256679</td>\n",
       "      <td>https://sofifa.com/player/256679/kevin-angulo/...</td>\n",
       "      <td>K. Angulo</td>\n",
       "      <td>Kevin Angulo</td>\n",
       "      <td>24</td>\n",
       "      <td>1996-04-13</td>\n",
       "      <td>176</td>\n",
       "      <td>73</td>\n",
       "      <td>Colombia</td>\n",
       "      <td>...</td>\n",
       "      <td>47+2</td>\n",
       "      <td>47+2</td>\n",
       "      <td>47+2</td>\n",
       "      <td>47+2</td>\n",
       "      <td>47+2</td>\n",
       "      <td>47+2</td>\n",
       "      <td>46+2</td>\n",
       "      <td>46+2</td>\n",
       "      <td>46+2</td>\n",
       "      <td>47+2</td>\n",
       "    </tr>\n",
       "    <tr>\n",
       "      <th>18940</th>\n",
       "      <td>18940</td>\n",
       "      <td>257710</td>\n",
       "      <td>https://sofifa.com/player/257710/mengxuan-zhan...</td>\n",
       "      <td>Zhang Mengxuan</td>\n",
       "      <td>Mengxuan Zhang</td>\n",
       "      <td>21</td>\n",
       "      <td>1999-04-26</td>\n",
       "      <td>177</td>\n",
       "      <td>70</td>\n",
       "      <td>China PR</td>\n",
       "      <td>...</td>\n",
       "      <td>42+2</td>\n",
       "      <td>41+2</td>\n",
       "      <td>41+2</td>\n",
       "      <td>41+2</td>\n",
       "      <td>42+2</td>\n",
       "      <td>45+2</td>\n",
       "      <td>47+2</td>\n",
       "      <td>47+2</td>\n",
       "      <td>47+2</td>\n",
       "      <td>45+2</td>\n",
       "    </tr>\n",
       "    <tr>\n",
       "      <th>18941</th>\n",
       "      <td>18941</td>\n",
       "      <td>250989</td>\n",
       "      <td>https://sofifa.com/player/250989/zhenghao-wang...</td>\n",
       "      <td>Wang Zhenghao</td>\n",
       "      <td>王政豪</td>\n",
       "      <td>20</td>\n",
       "      <td>2000-06-28</td>\n",
       "      <td>185</td>\n",
       "      <td>74</td>\n",
       "      <td>China PR</td>\n",
       "      <td>...</td>\n",
       "      <td>42+2</td>\n",
       "      <td>42+2</td>\n",
       "      <td>42+2</td>\n",
       "      <td>42+2</td>\n",
       "      <td>42+2</td>\n",
       "      <td>44+2</td>\n",
       "      <td>47+2</td>\n",
       "      <td>47+2</td>\n",
       "      <td>47+2</td>\n",
       "      <td>44+2</td>\n",
       "    </tr>\n",
       "    <tr>\n",
       "      <th>18942</th>\n",
       "      <td>18942</td>\n",
       "      <td>257697</td>\n",
       "      <td>https://sofifa.com/player/257697/zitong-chen/2...</td>\n",
       "      <td>Chen Zitong</td>\n",
       "      <td>Zitong Chen</td>\n",
       "      <td>23</td>\n",
       "      <td>1997-02-20</td>\n",
       "      <td>186</td>\n",
       "      <td>80</td>\n",
       "      <td>China PR</td>\n",
       "      <td>...</td>\n",
       "      <td>47+2</td>\n",
       "      <td>49+2</td>\n",
       "      <td>49+2</td>\n",
       "      <td>49+2</td>\n",
       "      <td>47+2</td>\n",
       "      <td>47+2</td>\n",
       "      <td>49+2</td>\n",
       "      <td>49+2</td>\n",
       "      <td>49+2</td>\n",
       "      <td>47+2</td>\n",
       "    </tr>\n",
       "    <tr>\n",
       "      <th>18943</th>\n",
       "      <td>18943</td>\n",
       "      <td>257936</td>\n",
       "      <td>https://sofifa.com/player/257936/yue-song/210002</td>\n",
       "      <td>Song Yue</td>\n",
       "      <td>Yue Song</td>\n",
       "      <td>28</td>\n",
       "      <td>1991-11-20</td>\n",
       "      <td>185</td>\n",
       "      <td>79</td>\n",
       "      <td>China PR</td>\n",
       "      <td>...</td>\n",
       "      <td>47+0</td>\n",
       "      <td>47+0</td>\n",
       "      <td>47+0</td>\n",
       "      <td>47+0</td>\n",
       "      <td>47+0</td>\n",
       "      <td>47+0</td>\n",
       "      <td>46+1</td>\n",
       "      <td>46+1</td>\n",
       "      <td>46+1</td>\n",
       "      <td>47+0</td>\n",
       "    </tr>\n",
       "  </tbody>\n",
       "</table>\n",
       "<p>18944 rows × 107 columns</p>\n",
       "</div>"
      ],
      "text/plain": [
       "       Unnamed: 0  sofifa_id  \\\n",
       "0               0     158023   \n",
       "1               1      20801   \n",
       "2               2     200389   \n",
       "3               3     188545   \n",
       "4               4     190871   \n",
       "...           ...        ...   \n",
       "18939       18939     256679   \n",
       "18940       18940     257710   \n",
       "18941       18941     250989   \n",
       "18942       18942     257697   \n",
       "18943       18943     257936   \n",
       "\n",
       "                                              player_url         short_name  \\\n",
       "0      https://sofifa.com/player/158023/lionel-messi/...           L. Messi   \n",
       "1      https://sofifa.com/player/20801/c-ronaldo-dos-...  Cristiano Ronaldo   \n",
       "2      https://sofifa.com/player/200389/jan-oblak/210002           J. Oblak   \n",
       "3      https://sofifa.com/player/188545/robert-lewand...     R. Lewandowski   \n",
       "4      https://sofifa.com/player/190871/neymar-da-sil...          Neymar Jr   \n",
       "...                                                  ...                ...   \n",
       "18939  https://sofifa.com/player/256679/kevin-angulo/...          K. Angulo   \n",
       "18940  https://sofifa.com/player/257710/mengxuan-zhan...     Zhang Mengxuan   \n",
       "18941  https://sofifa.com/player/250989/zhenghao-wang...      Wang Zhenghao   \n",
       "18942  https://sofifa.com/player/257697/zitong-chen/2...        Chen Zitong   \n",
       "18943   https://sofifa.com/player/257936/yue-song/210002           Song Yue   \n",
       "\n",
       "                                 long_name  age         dob  height_cm  \\\n",
       "0           Lionel Andrés Messi Cuccittini   33  1987-06-24        170   \n",
       "1      Cristiano Ronaldo dos Santos Aveiro   35  1985-02-05        187   \n",
       "2                                Jan Oblak   27  1993-01-07        188   \n",
       "3                       Robert Lewandowski   31  1988-08-21        184   \n",
       "4            Neymar da Silva Santos Júnior   28  1992-02-05        175   \n",
       "...                                    ...  ...         ...        ...   \n",
       "18939                         Kevin Angulo   24  1996-04-13        176   \n",
       "18940                       Mengxuan Zhang   21  1999-04-26        177   \n",
       "18941                                  王政豪   20  2000-06-28        185   \n",
       "18942                          Zitong Chen   23  1997-02-20        186   \n",
       "18943                             Yue Song   28  1991-11-20        185   \n",
       "\n",
       "       weight_kg nationality  ...   lwb   ldm   cdm   rdm   rwb    lb   lcb  \\\n",
       "0             72   Argentina  ...  66+3  65+3  65+3  65+3  66+3  62+3  52+3   \n",
       "1             83    Portugal  ...  65+3  61+3  61+3  61+3  65+3  61+3  54+3   \n",
       "2             87    Slovenia  ...  32+3  36+3  36+3  36+3  32+3  32+3  33+3   \n",
       "3             80      Poland  ...  64+3  65+3  65+3  65+3  64+3  61+3  60+3   \n",
       "4             68      Brazil  ...  67+3  62+3  62+3  62+3  67+3  62+3  49+3   \n",
       "...          ...         ...  ...   ...   ...   ...   ...   ...   ...   ...   \n",
       "18939         73    Colombia  ...  47+2  47+2  47+2  47+2  47+2  47+2  46+2   \n",
       "18940         70    China PR  ...  42+2  41+2  41+2  41+2  42+2  45+2  47+2   \n",
       "18941         74    China PR  ...  42+2  42+2  42+2  42+2  42+2  44+2  47+2   \n",
       "18942         80    China PR  ...  47+2  49+2  49+2  49+2  47+2  47+2  49+2   \n",
       "18943         79    China PR  ...  47+0  47+0  47+0  47+0  47+0  47+0  46+1   \n",
       "\n",
       "         cb   rcb    rb  \n",
       "0      52+3  52+3  62+3  \n",
       "1      54+3  54+3  61+3  \n",
       "2      33+3  33+3  32+3  \n",
       "3      60+3  60+3  61+3  \n",
       "4      49+3  49+3  62+3  \n",
       "...     ...   ...   ...  \n",
       "18939  46+2  46+2  47+2  \n",
       "18940  47+2  47+2  45+2  \n",
       "18941  47+2  47+2  44+2  \n",
       "18942  49+2  49+2  47+2  \n",
       "18943  46+1  46+1  47+0  \n",
       "\n",
       "[18944 rows x 107 columns]"
      ]
     },
     "execution_count": 149,
     "metadata": {},
     "output_type": "execute_result"
    }
   ],
   "source": [
    "fifa21_data = pd.read_csv('data/fifa21.csv')\n",
    "fifa21_data"
   ]
  },
  {
   "cell_type": "code",
   "execution_count": 10,
   "id": "12a30102",
   "metadata": {},
   "outputs": [
    {
     "data": {
      "text/plain": [
       "(Index(['Unnamed: 0', 'sofifa_id', 'player_url', 'short_name', 'long_name',\n",
       "        'age', 'dob', 'height_cm', 'weight_kg', 'nationality',\n",
       "        ...\n",
       "        'lwb', 'ldm', 'cdm', 'rdm', 'rwb', 'lb', 'lcb', 'cb', 'rcb', 'rb'],\n",
       "       dtype='object', length=107),\n",
       " 107)"
      ]
     },
     "execution_count": 10,
     "metadata": {},
     "output_type": "execute_result"
    }
   ],
   "source": [
    "columns = fifa21_data.columns\n",
    "columns, len(columns)"
   ]
  },
  {
   "cell_type": "code",
   "execution_count": 11,
   "id": "d4230d6d",
   "metadata": {},
   "outputs": [
    {
     "name": "stdout",
     "output_type": "stream",
     "text": [
      "<class 'pandas.core.frame.DataFrame'>\n",
      "RangeIndex: 18944 entries, 0 to 18943\n",
      "Columns: 107 entries, Unnamed: 0 to rb\n",
      "dtypes: float64(18), int64(45), object(44)\n",
      "memory usage: 15.5+ MB\n"
     ]
    }
   ],
   "source": [
    "fifa21_data.info()"
   ]
  },
  {
   "cell_type": "code",
   "execution_count": 12,
   "id": "747ec047",
   "metadata": {},
   "outputs": [
    {
     "data": {
      "text/html": [
       "<div>\n",
       "<style scoped>\n",
       "    .dataframe tbody tr th:only-of-type {\n",
       "        vertical-align: middle;\n",
       "    }\n",
       "\n",
       "    .dataframe tbody tr th {\n",
       "        vertical-align: top;\n",
       "    }\n",
       "\n",
       "    .dataframe thead th {\n",
       "        text-align: right;\n",
       "    }\n",
       "</style>\n",
       "<table border=\"1\" class=\"dataframe\">\n",
       "  <thead>\n",
       "    <tr style=\"text-align: right;\">\n",
       "      <th></th>\n",
       "      <th>Unnamed: 0</th>\n",
       "      <th>sofifa_id</th>\n",
       "      <th>age</th>\n",
       "      <th>height_cm</th>\n",
       "      <th>weight_kg</th>\n",
       "      <th>league_rank</th>\n",
       "      <th>overall</th>\n",
       "      <th>potential</th>\n",
       "      <th>value_eur</th>\n",
       "      <th>wage_eur</th>\n",
       "      <th>...</th>\n",
       "      <th>mentality_penalties</th>\n",
       "      <th>mentality_composure</th>\n",
       "      <th>defending_marking</th>\n",
       "      <th>defending_standing_tackle</th>\n",
       "      <th>defending_sliding_tackle</th>\n",
       "      <th>goalkeeping_diving</th>\n",
       "      <th>goalkeeping_handling</th>\n",
       "      <th>goalkeeping_kicking</th>\n",
       "      <th>goalkeeping_positioning</th>\n",
       "      <th>goalkeeping_reflexes</th>\n",
       "    </tr>\n",
       "  </thead>\n",
       "  <tbody>\n",
       "    <tr>\n",
       "      <th>count</th>\n",
       "      <td>18944.000000</td>\n",
       "      <td>18944.000000</td>\n",
       "      <td>18944.000000</td>\n",
       "      <td>18944.000000</td>\n",
       "      <td>18944.000000</td>\n",
       "      <td>18719.000000</td>\n",
       "      <td>18944.000000</td>\n",
       "      <td>18944.000000</td>\n",
       "      <td>1.894400e+04</td>\n",
       "      <td>18944.000000</td>\n",
       "      <td>...</td>\n",
       "      <td>18944.000000</td>\n",
       "      <td>18944.000000</td>\n",
       "      <td>0.0</td>\n",
       "      <td>18944.000000</td>\n",
       "      <td>18944.000000</td>\n",
       "      <td>18944.000000</td>\n",
       "      <td>18944.000000</td>\n",
       "      <td>18944.000000</td>\n",
       "      <td>18944.000000</td>\n",
       "      <td>18944.000000</td>\n",
       "    </tr>\n",
       "    <tr>\n",
       "      <th>mean</th>\n",
       "      <td>9471.500000</td>\n",
       "      <td>226242.402872</td>\n",
       "      <td>25.225823</td>\n",
       "      <td>181.190773</td>\n",
       "      <td>75.016892</td>\n",
       "      <td>1.357070</td>\n",
       "      <td>65.677787</td>\n",
       "      <td>71.086729</td>\n",
       "      <td>2.224813e+06</td>\n",
       "      <td>8675.852513</td>\n",
       "      <td>...</td>\n",
       "      <td>48.050412</td>\n",
       "      <td>57.978674</td>\n",
       "      <td>NaN</td>\n",
       "      <td>47.581767</td>\n",
       "      <td>45.546505</td>\n",
       "      <td>16.446052</td>\n",
       "      <td>16.236486</td>\n",
       "      <td>16.103357</td>\n",
       "      <td>16.225982</td>\n",
       "      <td>16.551309</td>\n",
       "    </tr>\n",
       "    <tr>\n",
       "      <th>std</th>\n",
       "      <td>5468.806085</td>\n",
       "      <td>27171.091056</td>\n",
       "      <td>4.697354</td>\n",
       "      <td>6.825672</td>\n",
       "      <td>7.057140</td>\n",
       "      <td>0.739327</td>\n",
       "      <td>7.002278</td>\n",
       "      <td>6.109985</td>\n",
       "      <td>5.102486e+06</td>\n",
       "      <td>19654.774894</td>\n",
       "      <td>...</td>\n",
       "      <td>15.671721</td>\n",
       "      <td>12.118390</td>\n",
       "      <td>NaN</td>\n",
       "      <td>21.402461</td>\n",
       "      <td>20.953997</td>\n",
       "      <td>17.577332</td>\n",
       "      <td>16.845480</td>\n",
       "      <td>16.519399</td>\n",
       "      <td>17.017341</td>\n",
       "      <td>17.878121</td>\n",
       "    </tr>\n",
       "    <tr>\n",
       "      <th>min</th>\n",
       "      <td>0.000000</td>\n",
       "      <td>41.000000</td>\n",
       "      <td>16.000000</td>\n",
       "      <td>155.000000</td>\n",
       "      <td>50.000000</td>\n",
       "      <td>1.000000</td>\n",
       "      <td>47.000000</td>\n",
       "      <td>47.000000</td>\n",
       "      <td>0.000000e+00</td>\n",
       "      <td>0.000000</td>\n",
       "      <td>...</td>\n",
       "      <td>6.000000</td>\n",
       "      <td>12.000000</td>\n",
       "      <td>NaN</td>\n",
       "      <td>5.000000</td>\n",
       "      <td>4.000000</td>\n",
       "      <td>1.000000</td>\n",
       "      <td>1.000000</td>\n",
       "      <td>1.000000</td>\n",
       "      <td>1.000000</td>\n",
       "      <td>1.000000</td>\n",
       "    </tr>\n",
       "    <tr>\n",
       "      <th>25%</th>\n",
       "      <td>4735.750000</td>\n",
       "      <td>210030.500000</td>\n",
       "      <td>21.000000</td>\n",
       "      <td>176.000000</td>\n",
       "      <td>70.000000</td>\n",
       "      <td>1.000000</td>\n",
       "      <td>61.000000</td>\n",
       "      <td>67.000000</td>\n",
       "      <td>3.000000e+05</td>\n",
       "      <td>1000.000000</td>\n",
       "      <td>...</td>\n",
       "      <td>38.750000</td>\n",
       "      <td>50.000000</td>\n",
       "      <td>NaN</td>\n",
       "      <td>27.000000</td>\n",
       "      <td>24.000000</td>\n",
       "      <td>8.000000</td>\n",
       "      <td>8.000000</td>\n",
       "      <td>8.000000</td>\n",
       "      <td>8.000000</td>\n",
       "      <td>8.000000</td>\n",
       "    </tr>\n",
       "    <tr>\n",
       "      <th>50%</th>\n",
       "      <td>9471.500000</td>\n",
       "      <td>232314.500000</td>\n",
       "      <td>25.000000</td>\n",
       "      <td>181.000000</td>\n",
       "      <td>75.000000</td>\n",
       "      <td>1.000000</td>\n",
       "      <td>66.000000</td>\n",
       "      <td>71.000000</td>\n",
       "      <td>6.500000e+05</td>\n",
       "      <td>3000.000000</td>\n",
       "      <td>...</td>\n",
       "      <td>49.000000</td>\n",
       "      <td>59.000000</td>\n",
       "      <td>NaN</td>\n",
       "      <td>55.000000</td>\n",
       "      <td>52.000000</td>\n",
       "      <td>11.000000</td>\n",
       "      <td>11.000000</td>\n",
       "      <td>11.000000</td>\n",
       "      <td>11.000000</td>\n",
       "      <td>11.000000</td>\n",
       "    </tr>\n",
       "    <tr>\n",
       "      <th>75%</th>\n",
       "      <td>14207.250000</td>\n",
       "      <td>246760.250000</td>\n",
       "      <td>29.000000</td>\n",
       "      <td>186.000000</td>\n",
       "      <td>80.000000</td>\n",
       "      <td>1.000000</td>\n",
       "      <td>70.000000</td>\n",
       "      <td>75.000000</td>\n",
       "      <td>1.800000e+06</td>\n",
       "      <td>7000.000000</td>\n",
       "      <td>...</td>\n",
       "      <td>60.000000</td>\n",
       "      <td>66.000000</td>\n",
       "      <td>NaN</td>\n",
       "      <td>65.000000</td>\n",
       "      <td>63.000000</td>\n",
       "      <td>14.000000</td>\n",
       "      <td>14.000000</td>\n",
       "      <td>14.000000</td>\n",
       "      <td>14.000000</td>\n",
       "      <td>14.000000</td>\n",
       "    </tr>\n",
       "    <tr>\n",
       "      <th>max</th>\n",
       "      <td>18943.000000</td>\n",
       "      <td>258970.000000</td>\n",
       "      <td>53.000000</td>\n",
       "      <td>206.000000</td>\n",
       "      <td>110.000000</td>\n",
       "      <td>4.000000</td>\n",
       "      <td>93.000000</td>\n",
       "      <td>95.000000</td>\n",
       "      <td>1.055000e+08</td>\n",
       "      <td>560000.000000</td>\n",
       "      <td>...</td>\n",
       "      <td>92.000000</td>\n",
       "      <td>96.000000</td>\n",
       "      <td>NaN</td>\n",
       "      <td>93.000000</td>\n",
       "      <td>90.000000</td>\n",
       "      <td>90.000000</td>\n",
       "      <td>92.000000</td>\n",
       "      <td>93.000000</td>\n",
       "      <td>91.000000</td>\n",
       "      <td>90.000000</td>\n",
       "    </tr>\n",
       "  </tbody>\n",
       "</table>\n",
       "<p>8 rows × 63 columns</p>\n",
       "</div>"
      ],
      "text/plain": [
       "         Unnamed: 0      sofifa_id           age     height_cm     weight_kg  \\\n",
       "count  18944.000000   18944.000000  18944.000000  18944.000000  18944.000000   \n",
       "mean    9471.500000  226242.402872     25.225823    181.190773     75.016892   \n",
       "std     5468.806085   27171.091056      4.697354      6.825672      7.057140   \n",
       "min        0.000000      41.000000     16.000000    155.000000     50.000000   \n",
       "25%     4735.750000  210030.500000     21.000000    176.000000     70.000000   \n",
       "50%     9471.500000  232314.500000     25.000000    181.000000     75.000000   \n",
       "75%    14207.250000  246760.250000     29.000000    186.000000     80.000000   \n",
       "max    18943.000000  258970.000000     53.000000    206.000000    110.000000   \n",
       "\n",
       "        league_rank       overall     potential     value_eur       wage_eur  \\\n",
       "count  18719.000000  18944.000000  18944.000000  1.894400e+04   18944.000000   \n",
       "mean       1.357070     65.677787     71.086729  2.224813e+06    8675.852513   \n",
       "std        0.739327      7.002278      6.109985  5.102486e+06   19654.774894   \n",
       "min        1.000000     47.000000     47.000000  0.000000e+00       0.000000   \n",
       "25%        1.000000     61.000000     67.000000  3.000000e+05    1000.000000   \n",
       "50%        1.000000     66.000000     71.000000  6.500000e+05    3000.000000   \n",
       "75%        1.000000     70.000000     75.000000  1.800000e+06    7000.000000   \n",
       "max        4.000000     93.000000     95.000000  1.055000e+08  560000.000000   \n",
       "\n",
       "       ...  mentality_penalties  mentality_composure  defending_marking  \\\n",
       "count  ...         18944.000000         18944.000000                0.0   \n",
       "mean   ...            48.050412            57.978674                NaN   \n",
       "std    ...            15.671721            12.118390                NaN   \n",
       "min    ...             6.000000            12.000000                NaN   \n",
       "25%    ...            38.750000            50.000000                NaN   \n",
       "50%    ...            49.000000            59.000000                NaN   \n",
       "75%    ...            60.000000            66.000000                NaN   \n",
       "max    ...            92.000000            96.000000                NaN   \n",
       "\n",
       "       defending_standing_tackle  defending_sliding_tackle  \\\n",
       "count               18944.000000              18944.000000   \n",
       "mean                   47.581767                 45.546505   \n",
       "std                    21.402461                 20.953997   \n",
       "min                     5.000000                  4.000000   \n",
       "25%                    27.000000                 24.000000   \n",
       "50%                    55.000000                 52.000000   \n",
       "75%                    65.000000                 63.000000   \n",
       "max                    93.000000                 90.000000   \n",
       "\n",
       "       goalkeeping_diving  goalkeeping_handling  goalkeeping_kicking  \\\n",
       "count        18944.000000          18944.000000         18944.000000   \n",
       "mean            16.446052             16.236486            16.103357   \n",
       "std             17.577332             16.845480            16.519399   \n",
       "min              1.000000              1.000000             1.000000   \n",
       "25%              8.000000              8.000000             8.000000   \n",
       "50%             11.000000             11.000000            11.000000   \n",
       "75%             14.000000             14.000000            14.000000   \n",
       "max             90.000000             92.000000            93.000000   \n",
       "\n",
       "       goalkeeping_positioning  goalkeeping_reflexes  \n",
       "count             18944.000000          18944.000000  \n",
       "mean                 16.225982             16.551309  \n",
       "std                  17.017341             17.878121  \n",
       "min                   1.000000              1.000000  \n",
       "25%                   8.000000              8.000000  \n",
       "50%                  11.000000             11.000000  \n",
       "75%                  14.000000             14.000000  \n",
       "max                  91.000000             90.000000  \n",
       "\n",
       "[8 rows x 63 columns]"
      ]
     },
     "execution_count": 12,
     "metadata": {},
     "output_type": "execute_result"
    }
   ],
   "source": [
    "fifa21_data.describe()"
   ]
  },
  {
   "cell_type": "code",
   "execution_count": 13,
   "id": "89a1adde",
   "metadata": {},
   "outputs": [
    {
     "data": {
      "text/plain": [
       "Unnamed: 0    0\n",
       "sofifa_id     0\n",
       "player_url    0\n",
       "short_name    0\n",
       "long_name     0\n",
       "             ..\n",
       "lb            0\n",
       "lcb           0\n",
       "cb            0\n",
       "rcb           0\n",
       "rb            0\n",
       "Length: 107, dtype: int64"
      ]
     },
     "execution_count": 13,
     "metadata": {},
     "output_type": "execute_result"
    }
   ],
   "source": [
    "fifa21_data.isna().sum()"
   ]
  },
  {
   "cell_type": "code",
   "execution_count": 15,
   "id": "6802027f",
   "metadata": {},
   "outputs": [
    {
     "data": {
      "text/plain": [
       "(18944, 107)"
      ]
     },
     "execution_count": 15,
     "metadata": {},
     "output_type": "execute_result"
    }
   ],
   "source": [
    "fifa21_data.shape"
   ]
  },
  {
   "cell_type": "code",
   "execution_count": 17,
   "id": "565224bc",
   "metadata": {},
   "outputs": [
    {
     "data": {
      "text/plain": [
       "23    1473\n",
       "22    1435\n",
       "20    1427\n",
       "24    1423\n",
       "21    1383\n",
       "26    1277\n",
       "28    1274\n",
       "25    1250\n",
       "27    1217\n",
       "29    1045\n",
       "19    1032\n",
       "30     935\n",
       "31     768\n",
       "18     668\n",
       "32     628\n",
       "33     476\n",
       "34     359\n",
       "17     273\n",
       "35     218\n",
       "36     160\n",
       "37      81\n",
       "38      57\n",
       "16      29\n",
       "39      28\n",
       "40      13\n",
       "41       7\n",
       "42       5\n",
       "43       2\n",
       "53       1\n",
       "Name: age, dtype: int64"
      ]
     },
     "execution_count": 17,
     "metadata": {},
     "output_type": "execute_result"
    }
   ],
   "source": [
    "fifa21_data['age'].value_counts()"
   ]
  },
  {
   "cell_type": "code",
   "execution_count": null,
   "id": "be951257",
   "metadata": {},
   "outputs": [],
   "source": []
  },
  {
   "cell_type": "code",
   "execution_count": 30,
   "id": "ea034dc2",
   "metadata": {},
   "outputs": [
    {
     "data": {
      "text/html": [
       "<div>\n",
       "<style scoped>\n",
       "    .dataframe tbody tr th:only-of-type {\n",
       "        vertical-align: middle;\n",
       "    }\n",
       "\n",
       "    .dataframe tbody tr th {\n",
       "        vertical-align: top;\n",
       "    }\n",
       "\n",
       "    .dataframe thead th {\n",
       "        text-align: right;\n",
       "    }\n",
       "</style>\n",
       "<table border=\"1\" class=\"dataframe\">\n",
       "  <thead>\n",
       "    <tr style=\"text-align: right;\">\n",
       "      <th></th>\n",
       "      <th>sofifa_id</th>\n",
       "      <th>player_url</th>\n",
       "      <th>short_name</th>\n",
       "      <th>long_name</th>\n",
       "      <th>age</th>\n",
       "      <th>dob</th>\n",
       "      <th>height_cm</th>\n",
       "      <th>weight_kg</th>\n",
       "      <th>nationality</th>\n",
       "      <th>club_name</th>\n",
       "      <th>...</th>\n",
       "      <th>lwb</th>\n",
       "      <th>ldm</th>\n",
       "      <th>cdm</th>\n",
       "      <th>rdm</th>\n",
       "      <th>rwb</th>\n",
       "      <th>lb</th>\n",
       "      <th>lcb</th>\n",
       "      <th>cb</th>\n",
       "      <th>rcb</th>\n",
       "      <th>rb</th>\n",
       "    </tr>\n",
       "  </thead>\n",
       "  <tbody>\n",
       "    <tr>\n",
       "      <th>0</th>\n",
       "      <td>158023</td>\n",
       "      <td>https://sofifa.com/player/158023/lionel-messi/...</td>\n",
       "      <td>L. Messi</td>\n",
       "      <td>Lionel Andrés Messi Cuccittini</td>\n",
       "      <td>33</td>\n",
       "      <td>1987-06-24</td>\n",
       "      <td>170</td>\n",
       "      <td>72</td>\n",
       "      <td>Argentina</td>\n",
       "      <td>FC Barcelona</td>\n",
       "      <td>...</td>\n",
       "      <td>66+3</td>\n",
       "      <td>65+3</td>\n",
       "      <td>65+3</td>\n",
       "      <td>65+3</td>\n",
       "      <td>66+3</td>\n",
       "      <td>62+3</td>\n",
       "      <td>52+3</td>\n",
       "      <td>52+3</td>\n",
       "      <td>52+3</td>\n",
       "      <td>62+3</td>\n",
       "    </tr>\n",
       "    <tr>\n",
       "      <th>1</th>\n",
       "      <td>20801</td>\n",
       "      <td>https://sofifa.com/player/20801/c-ronaldo-dos-...</td>\n",
       "      <td>Cristiano Ronaldo</td>\n",
       "      <td>Cristiano Ronaldo dos Santos Aveiro</td>\n",
       "      <td>35</td>\n",
       "      <td>1985-02-05</td>\n",
       "      <td>187</td>\n",
       "      <td>83</td>\n",
       "      <td>Portugal</td>\n",
       "      <td>Juventus</td>\n",
       "      <td>...</td>\n",
       "      <td>65+3</td>\n",
       "      <td>61+3</td>\n",
       "      <td>61+3</td>\n",
       "      <td>61+3</td>\n",
       "      <td>65+3</td>\n",
       "      <td>61+3</td>\n",
       "      <td>54+3</td>\n",
       "      <td>54+3</td>\n",
       "      <td>54+3</td>\n",
       "      <td>61+3</td>\n",
       "    </tr>\n",
       "    <tr>\n",
       "      <th>2</th>\n",
       "      <td>200389</td>\n",
       "      <td>https://sofifa.com/player/200389/jan-oblak/210002</td>\n",
       "      <td>J. Oblak</td>\n",
       "      <td>Jan Oblak</td>\n",
       "      <td>27</td>\n",
       "      <td>1993-01-07</td>\n",
       "      <td>188</td>\n",
       "      <td>87</td>\n",
       "      <td>Slovenia</td>\n",
       "      <td>Atlético Madrid</td>\n",
       "      <td>...</td>\n",
       "      <td>32+3</td>\n",
       "      <td>36+3</td>\n",
       "      <td>36+3</td>\n",
       "      <td>36+3</td>\n",
       "      <td>32+3</td>\n",
       "      <td>32+3</td>\n",
       "      <td>33+3</td>\n",
       "      <td>33+3</td>\n",
       "      <td>33+3</td>\n",
       "      <td>32+3</td>\n",
       "    </tr>\n",
       "    <tr>\n",
       "      <th>3</th>\n",
       "      <td>188545</td>\n",
       "      <td>https://sofifa.com/player/188545/robert-lewand...</td>\n",
       "      <td>R. Lewandowski</td>\n",
       "      <td>Robert Lewandowski</td>\n",
       "      <td>31</td>\n",
       "      <td>1988-08-21</td>\n",
       "      <td>184</td>\n",
       "      <td>80</td>\n",
       "      <td>Poland</td>\n",
       "      <td>FC Bayern München</td>\n",
       "      <td>...</td>\n",
       "      <td>64+3</td>\n",
       "      <td>65+3</td>\n",
       "      <td>65+3</td>\n",
       "      <td>65+3</td>\n",
       "      <td>64+3</td>\n",
       "      <td>61+3</td>\n",
       "      <td>60+3</td>\n",
       "      <td>60+3</td>\n",
       "      <td>60+3</td>\n",
       "      <td>61+3</td>\n",
       "    </tr>\n",
       "  </tbody>\n",
       "</table>\n",
       "<p>4 rows × 106 columns</p>\n",
       "</div>"
      ],
      "text/plain": [
       "   sofifa_id                                         player_url  \\\n",
       "0     158023  https://sofifa.com/player/158023/lionel-messi/...   \n",
       "1      20801  https://sofifa.com/player/20801/c-ronaldo-dos-...   \n",
       "2     200389  https://sofifa.com/player/200389/jan-oblak/210002   \n",
       "3     188545  https://sofifa.com/player/188545/robert-lewand...   \n",
       "\n",
       "          short_name                            long_name  age         dob  \\\n",
       "0           L. Messi       Lionel Andrés Messi Cuccittini   33  1987-06-24   \n",
       "1  Cristiano Ronaldo  Cristiano Ronaldo dos Santos Aveiro   35  1985-02-05   \n",
       "2           J. Oblak                            Jan Oblak   27  1993-01-07   \n",
       "3     R. Lewandowski                   Robert Lewandowski   31  1988-08-21   \n",
       "\n",
       "   height_cm  weight_kg nationality          club_name  ...   lwb   ldm   cdm  \\\n",
       "0        170         72   Argentina       FC Barcelona  ...  66+3  65+3  65+3   \n",
       "1        187         83    Portugal           Juventus  ...  65+3  61+3  61+3   \n",
       "2        188         87    Slovenia    Atlético Madrid  ...  32+3  36+3  36+3   \n",
       "3        184         80      Poland  FC Bayern München  ...  64+3  65+3  65+3   \n",
       "\n",
       "    rdm   rwb    lb   lcb    cb   rcb    rb  \n",
       "0  65+3  66+3  62+3  52+3  52+3  52+3  62+3  \n",
       "1  61+3  65+3  61+3  54+3  54+3  54+3  61+3  \n",
       "2  36+3  32+3  32+3  33+3  33+3  33+3  32+3  \n",
       "3  65+3  64+3  61+3  60+3  60+3  60+3  61+3  \n",
       "\n",
       "[4 rows x 106 columns]"
      ]
     },
     "execution_count": 30,
     "metadata": {},
     "output_type": "execute_result"
    }
   ],
   "source": [
    "fifa21_data.head(4)"
   ]
  },
  {
   "cell_type": "code",
   "execution_count": 31,
   "id": "31852722",
   "metadata": {},
   "outputs": [],
   "source": [
    "fifa21_data.set_index('short_name', inplace=True)"
   ]
  },
  {
   "cell_type": "code",
   "execution_count": 33,
   "id": "fbd20adb",
   "metadata": {},
   "outputs": [],
   "source": [
    "fifa21_data.drop(columns=['sofifa_id'], inplace=True)"
   ]
  },
  {
   "cell_type": "code",
   "execution_count": 34,
   "id": "f0e803c1",
   "metadata": {},
   "outputs": [
    {
     "data": {
      "text/html": [
       "<div>\n",
       "<style scoped>\n",
       "    .dataframe tbody tr th:only-of-type {\n",
       "        vertical-align: middle;\n",
       "    }\n",
       "\n",
       "    .dataframe tbody tr th {\n",
       "        vertical-align: top;\n",
       "    }\n",
       "\n",
       "    .dataframe thead th {\n",
       "        text-align: right;\n",
       "    }\n",
       "</style>\n",
       "<table border=\"1\" class=\"dataframe\">\n",
       "  <thead>\n",
       "    <tr style=\"text-align: right;\">\n",
       "      <th></th>\n",
       "      <th>player_url</th>\n",
       "      <th>long_name</th>\n",
       "      <th>age</th>\n",
       "      <th>dob</th>\n",
       "      <th>height_cm</th>\n",
       "      <th>weight_kg</th>\n",
       "      <th>nationality</th>\n",
       "      <th>club_name</th>\n",
       "      <th>league_name</th>\n",
       "      <th>league_rank</th>\n",
       "      <th>...</th>\n",
       "      <th>lwb</th>\n",
       "      <th>ldm</th>\n",
       "      <th>cdm</th>\n",
       "      <th>rdm</th>\n",
       "      <th>rwb</th>\n",
       "      <th>lb</th>\n",
       "      <th>lcb</th>\n",
       "      <th>cb</th>\n",
       "      <th>rcb</th>\n",
       "      <th>rb</th>\n",
       "    </tr>\n",
       "    <tr>\n",
       "      <th>short_name</th>\n",
       "      <th></th>\n",
       "      <th></th>\n",
       "      <th></th>\n",
       "      <th></th>\n",
       "      <th></th>\n",
       "      <th></th>\n",
       "      <th></th>\n",
       "      <th></th>\n",
       "      <th></th>\n",
       "      <th></th>\n",
       "      <th></th>\n",
       "      <th></th>\n",
       "      <th></th>\n",
       "      <th></th>\n",
       "      <th></th>\n",
       "      <th></th>\n",
       "      <th></th>\n",
       "      <th></th>\n",
       "      <th></th>\n",
       "      <th></th>\n",
       "      <th></th>\n",
       "    </tr>\n",
       "  </thead>\n",
       "  <tbody>\n",
       "    <tr>\n",
       "      <th>L. Messi</th>\n",
       "      <td>https://sofifa.com/player/158023/lionel-messi/...</td>\n",
       "      <td>Lionel Andrés Messi Cuccittini</td>\n",
       "      <td>33</td>\n",
       "      <td>1987-06-24</td>\n",
       "      <td>170</td>\n",
       "      <td>72</td>\n",
       "      <td>Argentina</td>\n",
       "      <td>FC Barcelona</td>\n",
       "      <td>Spain Primera Division</td>\n",
       "      <td>1.0</td>\n",
       "      <td>...</td>\n",
       "      <td>66+3</td>\n",
       "      <td>65+3</td>\n",
       "      <td>65+3</td>\n",
       "      <td>65+3</td>\n",
       "      <td>66+3</td>\n",
       "      <td>62+3</td>\n",
       "      <td>52+3</td>\n",
       "      <td>52+3</td>\n",
       "      <td>52+3</td>\n",
       "      <td>62+3</td>\n",
       "    </tr>\n",
       "    <tr>\n",
       "      <th>Cristiano Ronaldo</th>\n",
       "      <td>https://sofifa.com/player/20801/c-ronaldo-dos-...</td>\n",
       "      <td>Cristiano Ronaldo dos Santos Aveiro</td>\n",
       "      <td>35</td>\n",
       "      <td>1985-02-05</td>\n",
       "      <td>187</td>\n",
       "      <td>83</td>\n",
       "      <td>Portugal</td>\n",
       "      <td>Juventus</td>\n",
       "      <td>Italian Serie A</td>\n",
       "      <td>1.0</td>\n",
       "      <td>...</td>\n",
       "      <td>65+3</td>\n",
       "      <td>61+3</td>\n",
       "      <td>61+3</td>\n",
       "      <td>61+3</td>\n",
       "      <td>65+3</td>\n",
       "      <td>61+3</td>\n",
       "      <td>54+3</td>\n",
       "      <td>54+3</td>\n",
       "      <td>54+3</td>\n",
       "      <td>61+3</td>\n",
       "    </tr>\n",
       "    <tr>\n",
       "      <th>J. Oblak</th>\n",
       "      <td>https://sofifa.com/player/200389/jan-oblak/210002</td>\n",
       "      <td>Jan Oblak</td>\n",
       "      <td>27</td>\n",
       "      <td>1993-01-07</td>\n",
       "      <td>188</td>\n",
       "      <td>87</td>\n",
       "      <td>Slovenia</td>\n",
       "      <td>Atlético Madrid</td>\n",
       "      <td>Spain Primera Division</td>\n",
       "      <td>1.0</td>\n",
       "      <td>...</td>\n",
       "      <td>32+3</td>\n",
       "      <td>36+3</td>\n",
       "      <td>36+3</td>\n",
       "      <td>36+3</td>\n",
       "      <td>32+3</td>\n",
       "      <td>32+3</td>\n",
       "      <td>33+3</td>\n",
       "      <td>33+3</td>\n",
       "      <td>33+3</td>\n",
       "      <td>32+3</td>\n",
       "    </tr>\n",
       "    <tr>\n",
       "      <th>R. Lewandowski</th>\n",
       "      <td>https://sofifa.com/player/188545/robert-lewand...</td>\n",
       "      <td>Robert Lewandowski</td>\n",
       "      <td>31</td>\n",
       "      <td>1988-08-21</td>\n",
       "      <td>184</td>\n",
       "      <td>80</td>\n",
       "      <td>Poland</td>\n",
       "      <td>FC Bayern München</td>\n",
       "      <td>German 1. Bundesliga</td>\n",
       "      <td>1.0</td>\n",
       "      <td>...</td>\n",
       "      <td>64+3</td>\n",
       "      <td>65+3</td>\n",
       "      <td>65+3</td>\n",
       "      <td>65+3</td>\n",
       "      <td>64+3</td>\n",
       "      <td>61+3</td>\n",
       "      <td>60+3</td>\n",
       "      <td>60+3</td>\n",
       "      <td>60+3</td>\n",
       "      <td>61+3</td>\n",
       "    </tr>\n",
       "  </tbody>\n",
       "</table>\n",
       "<p>4 rows × 104 columns</p>\n",
       "</div>"
      ],
      "text/plain": [
       "                                                          player_url  \\\n",
       "short_name                                                             \n",
       "L. Messi           https://sofifa.com/player/158023/lionel-messi/...   \n",
       "Cristiano Ronaldo  https://sofifa.com/player/20801/c-ronaldo-dos-...   \n",
       "J. Oblak           https://sofifa.com/player/200389/jan-oblak/210002   \n",
       "R. Lewandowski     https://sofifa.com/player/188545/robert-lewand...   \n",
       "\n",
       "                                             long_name  age         dob  \\\n",
       "short_name                                                                \n",
       "L. Messi                Lionel Andrés Messi Cuccittini   33  1987-06-24   \n",
       "Cristiano Ronaldo  Cristiano Ronaldo dos Santos Aveiro   35  1985-02-05   \n",
       "J. Oblak                                     Jan Oblak   27  1993-01-07   \n",
       "R. Lewandowski                      Robert Lewandowski   31  1988-08-21   \n",
       "\n",
       "                   height_cm  weight_kg nationality          club_name  \\\n",
       "short_name                                                               \n",
       "L. Messi                 170         72   Argentina       FC Barcelona   \n",
       "Cristiano Ronaldo        187         83    Portugal           Juventus   \n",
       "J. Oblak                 188         87    Slovenia    Atlético Madrid   \n",
       "R. Lewandowski           184         80      Poland  FC Bayern München   \n",
       "\n",
       "                              league_name  league_rank  ...   lwb   ldm   cdm  \\\n",
       "short_name                                              ...                     \n",
       "L. Messi           Spain Primera Division          1.0  ...  66+3  65+3  65+3   \n",
       "Cristiano Ronaldo         Italian Serie A          1.0  ...  65+3  61+3  61+3   \n",
       "J. Oblak           Spain Primera Division          1.0  ...  32+3  36+3  36+3   \n",
       "R. Lewandowski       German 1. Bundesliga          1.0  ...  64+3  65+3  65+3   \n",
       "\n",
       "                    rdm   rwb    lb   lcb    cb   rcb    rb  \n",
       "short_name                                                   \n",
       "L. Messi           65+3  66+3  62+3  52+3  52+3  52+3  62+3  \n",
       "Cristiano Ronaldo  61+3  65+3  61+3  54+3  54+3  54+3  61+3  \n",
       "J. Oblak           36+3  32+3  32+3  33+3  33+3  33+3  32+3  \n",
       "R. Lewandowski     65+3  64+3  61+3  60+3  60+3  60+3  61+3  \n",
       "\n",
       "[4 rows x 104 columns]"
      ]
     },
     "execution_count": 34,
     "metadata": {},
     "output_type": "execute_result"
    }
   ],
   "source": [
    "fifa21_data.head(4)"
   ]
  },
  {
   "cell_type": "code",
   "execution_count": 35,
   "id": "e70022d9",
   "metadata": {},
   "outputs": [
    {
     "data": {
      "text/html": [
       "<div>\n",
       "<style scoped>\n",
       "    .dataframe tbody tr th:only-of-type {\n",
       "        vertical-align: middle;\n",
       "    }\n",
       "\n",
       "    .dataframe tbody tr th {\n",
       "        vertical-align: top;\n",
       "    }\n",
       "\n",
       "    .dataframe thead th {\n",
       "        text-align: right;\n",
       "    }\n",
       "</style>\n",
       "<table border=\"1\" class=\"dataframe\">\n",
       "  <thead>\n",
       "    <tr style=\"text-align: right;\">\n",
       "      <th></th>\n",
       "      <th>player_url</th>\n",
       "      <th>long_name</th>\n",
       "      <th>age</th>\n",
       "      <th>dob</th>\n",
       "      <th>height_cm</th>\n",
       "      <th>weight_kg</th>\n",
       "      <th>nationality</th>\n",
       "      <th>club_name</th>\n",
       "      <th>league_name</th>\n",
       "      <th>league_rank</th>\n",
       "      <th>...</th>\n",
       "      <th>ldm</th>\n",
       "      <th>cdm</th>\n",
       "      <th>rdm</th>\n",
       "      <th>rwb</th>\n",
       "      <th>lb</th>\n",
       "      <th>lcb</th>\n",
       "      <th>cb</th>\n",
       "      <th>rcb</th>\n",
       "      <th>rb</th>\n",
       "      <th>bmi</th>\n",
       "    </tr>\n",
       "    <tr>\n",
       "      <th>short_name</th>\n",
       "      <th></th>\n",
       "      <th></th>\n",
       "      <th></th>\n",
       "      <th></th>\n",
       "      <th></th>\n",
       "      <th></th>\n",
       "      <th></th>\n",
       "      <th></th>\n",
       "      <th></th>\n",
       "      <th></th>\n",
       "      <th></th>\n",
       "      <th></th>\n",
       "      <th></th>\n",
       "      <th></th>\n",
       "      <th></th>\n",
       "      <th></th>\n",
       "      <th></th>\n",
       "      <th></th>\n",
       "      <th></th>\n",
       "      <th></th>\n",
       "      <th></th>\n",
       "    </tr>\n",
       "  </thead>\n",
       "  <tbody>\n",
       "    <tr>\n",
       "      <th>L. Messi</th>\n",
       "      <td>https://sofifa.com/player/158023/lionel-messi/...</td>\n",
       "      <td>Lionel Andrés Messi Cuccittini</td>\n",
       "      <td>33</td>\n",
       "      <td>1987-06-24</td>\n",
       "      <td>170</td>\n",
       "      <td>72</td>\n",
       "      <td>Argentina</td>\n",
       "      <td>FC Barcelona</td>\n",
       "      <td>Spain Primera Division</td>\n",
       "      <td>1.0</td>\n",
       "      <td>...</td>\n",
       "      <td>65+3</td>\n",
       "      <td>65+3</td>\n",
       "      <td>65+3</td>\n",
       "      <td>66+3</td>\n",
       "      <td>62+3</td>\n",
       "      <td>52+3</td>\n",
       "      <td>52+3</td>\n",
       "      <td>52+3</td>\n",
       "      <td>62+3</td>\n",
       "      <td>24.913495</td>\n",
       "    </tr>\n",
       "    <tr>\n",
       "      <th>Cristiano Ronaldo</th>\n",
       "      <td>https://sofifa.com/player/20801/c-ronaldo-dos-...</td>\n",
       "      <td>Cristiano Ronaldo dos Santos Aveiro</td>\n",
       "      <td>35</td>\n",
       "      <td>1985-02-05</td>\n",
       "      <td>187</td>\n",
       "      <td>83</td>\n",
       "      <td>Portugal</td>\n",
       "      <td>Juventus</td>\n",
       "      <td>Italian Serie A</td>\n",
       "      <td>1.0</td>\n",
       "      <td>...</td>\n",
       "      <td>61+3</td>\n",
       "      <td>61+3</td>\n",
       "      <td>61+3</td>\n",
       "      <td>65+3</td>\n",
       "      <td>61+3</td>\n",
       "      <td>54+3</td>\n",
       "      <td>54+3</td>\n",
       "      <td>54+3</td>\n",
       "      <td>61+3</td>\n",
       "      <td>23.735308</td>\n",
       "    </tr>\n",
       "    <tr>\n",
       "      <th>J. Oblak</th>\n",
       "      <td>https://sofifa.com/player/200389/jan-oblak/210002</td>\n",
       "      <td>Jan Oblak</td>\n",
       "      <td>27</td>\n",
       "      <td>1993-01-07</td>\n",
       "      <td>188</td>\n",
       "      <td>87</td>\n",
       "      <td>Slovenia</td>\n",
       "      <td>Atlético Madrid</td>\n",
       "      <td>Spain Primera Division</td>\n",
       "      <td>1.0</td>\n",
       "      <td>...</td>\n",
       "      <td>36+3</td>\n",
       "      <td>36+3</td>\n",
       "      <td>36+3</td>\n",
       "      <td>32+3</td>\n",
       "      <td>32+3</td>\n",
       "      <td>33+3</td>\n",
       "      <td>33+3</td>\n",
       "      <td>33+3</td>\n",
       "      <td>32+3</td>\n",
       "      <td>24.615211</td>\n",
       "    </tr>\n",
       "    <tr>\n",
       "      <th>R. Lewandowski</th>\n",
       "      <td>https://sofifa.com/player/188545/robert-lewand...</td>\n",
       "      <td>Robert Lewandowski</td>\n",
       "      <td>31</td>\n",
       "      <td>1988-08-21</td>\n",
       "      <td>184</td>\n",
       "      <td>80</td>\n",
       "      <td>Poland</td>\n",
       "      <td>FC Bayern München</td>\n",
       "      <td>German 1. Bundesliga</td>\n",
       "      <td>1.0</td>\n",
       "      <td>...</td>\n",
       "      <td>65+3</td>\n",
       "      <td>65+3</td>\n",
       "      <td>65+3</td>\n",
       "      <td>64+3</td>\n",
       "      <td>61+3</td>\n",
       "      <td>60+3</td>\n",
       "      <td>60+3</td>\n",
       "      <td>60+3</td>\n",
       "      <td>61+3</td>\n",
       "      <td>23.629490</td>\n",
       "    </tr>\n",
       "  </tbody>\n",
       "</table>\n",
       "<p>4 rows × 105 columns</p>\n",
       "</div>"
      ],
      "text/plain": [
       "                                                          player_url  \\\n",
       "short_name                                                             \n",
       "L. Messi           https://sofifa.com/player/158023/lionel-messi/...   \n",
       "Cristiano Ronaldo  https://sofifa.com/player/20801/c-ronaldo-dos-...   \n",
       "J. Oblak           https://sofifa.com/player/200389/jan-oblak/210002   \n",
       "R. Lewandowski     https://sofifa.com/player/188545/robert-lewand...   \n",
       "\n",
       "                                             long_name  age         dob  \\\n",
       "short_name                                                                \n",
       "L. Messi                Lionel Andrés Messi Cuccittini   33  1987-06-24   \n",
       "Cristiano Ronaldo  Cristiano Ronaldo dos Santos Aveiro   35  1985-02-05   \n",
       "J. Oblak                                     Jan Oblak   27  1993-01-07   \n",
       "R. Lewandowski                      Robert Lewandowski   31  1988-08-21   \n",
       "\n",
       "                   height_cm  weight_kg nationality          club_name  \\\n",
       "short_name                                                               \n",
       "L. Messi                 170         72   Argentina       FC Barcelona   \n",
       "Cristiano Ronaldo        187         83    Portugal           Juventus   \n",
       "J. Oblak                 188         87    Slovenia    Atlético Madrid   \n",
       "R. Lewandowski           184         80      Poland  FC Bayern München   \n",
       "\n",
       "                              league_name  league_rank  ...   ldm   cdm   rdm  \\\n",
       "short_name                                              ...                     \n",
       "L. Messi           Spain Primera Division          1.0  ...  65+3  65+3  65+3   \n",
       "Cristiano Ronaldo         Italian Serie A          1.0  ...  61+3  61+3  61+3   \n",
       "J. Oblak           Spain Primera Division          1.0  ...  36+3  36+3  36+3   \n",
       "R. Lewandowski       German 1. Bundesliga          1.0  ...  65+3  65+3  65+3   \n",
       "\n",
       "                    rwb    lb   lcb    cb   rcb    rb        bmi  \n",
       "short_name                                                        \n",
       "L. Messi           66+3  62+3  52+3  52+3  52+3  62+3  24.913495  \n",
       "Cristiano Ronaldo  65+3  61+3  54+3  54+3  54+3  61+3  23.735308  \n",
       "J. Oblak           32+3  32+3  33+3  33+3  33+3  32+3  24.615211  \n",
       "R. Lewandowski     64+3  61+3  60+3  60+3  60+3  61+3  23.629490  \n",
       "\n",
       "[4 rows x 105 columns]"
      ]
     },
     "execution_count": 35,
     "metadata": {},
     "output_type": "execute_result"
    }
   ],
   "source": [
    "# calculate the BMI\n",
    "\n",
    "fifa21_data['bmi'] = fifa21_data['weight_kg'] / ((fifa21_data['height_cm'] / 100)) ** 2\n",
    "fifa21_data.head(4)"
   ]
  },
  {
   "cell_type": "code",
   "execution_count": 45,
   "id": "1c6cf464",
   "metadata": {},
   "outputs": [
    {
     "name": "stdout",
     "output_type": "stream",
     "text": [
      "The average age is  25.22582347972973\n",
      "The average Height in CM is  181.19077280405406\n",
      "The average Height in KG is  75.01689189189189\n",
      "The average BMI is  22.82211601843613\n",
      "The average Overall is  65.67778716216216\n",
      "The Youngest player is aged  16\n",
      "The oldest player is aged  53\n"
     ]
    }
   ],
   "source": [
    "avg_age = fifa21_data['age'].mean()\n",
    "print('The average age is ', avg_age)\n",
    "avg_height = fifa21_data['height_cm'].mean()\n",
    "print('The average Height in CM is ', avg_height)\n",
    "avg_weight = fifa21_data['weight_kg'].mean()\n",
    "print('The average Height in KG is ', avg_weight)\n",
    "avg_bmi = fifa21_data['bmi'].mean()\n",
    "print('The average BMI is ', avg_bmi)\n",
    "\n",
    "overall_avg = fifa21_data['overall'].mean()\n",
    "print('The average Overall is ', overall_avg)\n",
    "\n",
    "youngest_player = fifa21_data['age'].min()\n",
    "print('The Youngest player is aged ', youngest_player)\n",
    "\n",
    "oldest_player = fifa21_data['age'].max()\n",
    "print('The oldest player is aged ', oldest_player)"
   ]
  },
  {
   "cell_type": "code",
   "execution_count": 42,
   "id": "282beb75",
   "metadata": {},
   "outputs": [
    {
     "data": {
      "text/plain": [
       "short_name\n",
       "L. Messi             93\n",
       "Cristiano Ronaldo    92\n",
       "J. Oblak             91\n",
       "R. Lewandowski       91\n",
       "Neymar Jr            91\n",
       "                     ..\n",
       "K. Angulo            47\n",
       "Zhang Mengxuan       47\n",
       "Wang Zhenghao        47\n",
       "Chen Zitong          47\n",
       "Song Yue             47\n",
       "Name: overall, Length: 18944, dtype: int64"
      ]
     },
     "execution_count": 42,
     "metadata": {},
     "output_type": "execute_result"
    }
   ],
   "source": [
    "fifa21_data['overall']"
   ]
  },
  {
   "cell_type": "code",
   "execution_count": 46,
   "id": "fdb5fb14",
   "metadata": {},
   "outputs": [],
   "source": [
    "import seaborn as sns"
   ]
  },
  {
   "cell_type": "code",
   "execution_count": 47,
   "id": "5766da89",
   "metadata": {},
   "outputs": [
    {
     "data": {
      "text/plain": [
       "Text(0.5, 1.0, 'Overall')"
      ]
     },
     "execution_count": 47,
     "metadata": {},
     "output_type": "execute_result"
    },
    {
     "data": {
      "image/png": "[encoded data removed]",
      "text/plain": [
       "<Figure size 360x360 with 1 Axes>"
      ]
     },
     "metadata": {
      "needs_background": "light"
     },
     "output_type": "display_data"
    }
   ],
   "source": [
    "sns.displot(fifa21_data.overall, kde=True, color='r')\n",
    "plt.title('Overall')"
   ]
  },
  {
   "cell_type": "code",
   "execution_count": 48,
   "id": "8d2163fa",
   "metadata": {},
   "outputs": [
    {
     "data": {
      "text/plain": [
       "Text(0.5, 1.0, 'Age')"
      ]
     },
     "execution_count": 48,
     "metadata": {},
     "output_type": "execute_result"
    },
    {
     "data": {
      "image/png": "[encoded data removed]",
      "text/plain": [
       "<Figure size 360x360 with 1 Axes>"
      ]
     },
     "metadata": {
      "needs_background": "light"
     },
     "output_type": "display_data"
    }
   ],
   "source": [
    "sns.displot(fifa21_data.age, kde=True, color='g')\n",
    "plt.title('Age')"
   ]
  },
  {
   "cell_type": "code",
   "execution_count": 50,
   "id": "ab4eb7f7",
   "metadata": {},
   "outputs": [
    {
     "data": {
      "text/plain": [
       "Text(0.5, 1.0, 'BMI')"
      ]
     },
     "execution_count": 50,
     "metadata": {},
     "output_type": "execute_result"
    },
    {
     "data": {
      "image/png": "[encoded data removed]",
      "text/plain": [
       "<Figure size 360x360 with 1 Axes>"
      ]
     },
     "metadata": {
      "needs_background": "light"
     },
     "output_type": "display_data"
    }
   ],
   "source": [
    "sns.displot(fifa21_data.bmi, kde=True, color='y')\n",
    "plt.title('BMI')"
   ]
  },
  {
   "cell_type": "code",
   "execution_count": 53,
   "id": "730b57e4",
   "metadata": {},
   "outputs": [
    {
     "data": {
      "text/plain": [
       "<matplotlib.legend.Legend at 0x7f78139a2610>"
      ]
     },
     "execution_count": 53,
     "metadata": {},
     "output_type": "execute_result"
    },
    {
     "data": {
      "image/png": "[encoded data removed]",
      "text/plain": [
       "<Figure size 1152x576 with 1 Axes>"
      ]
     },
     "metadata": {
      "needs_background": "light"
     },
     "output_type": "display_data"
    }
   ],
   "source": [
    "plt.figure(figsize=(16, 8))\n",
    "plt.title('Overall and Potential of players according to their work rate')\n",
    "sns.scatterplot(x='overall', y='potential', hue='work_rate', data=fifa21_data)\n",
    "plt.legend(fontsize='18')"
   ]
  },
  {
   "cell_type": "code",
   "execution_count": 55,
   "id": "c1e5ac65",
   "metadata": {},
   "outputs": [
    {
     "data": {
      "text/plain": [
       "<matplotlib.legend.Legend at 0x7f7812541fd0>"
      ]
     },
     "execution_count": 55,
     "metadata": {},
     "output_type": "execute_result"
    },
    {
     "data": {
      "image/png": "[encoded data removed]",
      "text/plain": [
       "<Figure size 1152x576 with 1 Axes>"
      ]
     },
     "metadata": {
      "needs_background": "light"
     },
     "output_type": "display_data"
    }
   ],
   "source": [
    "plt.figure(figsize=(16, 8))\n",
    "plt.title('Overall and Values of players according to their wages')\n",
    "sns.scatterplot(x='overall', \n",
    "                y='value_eur',\n",
    "                hue='wage_eur', palette=\"ch:r=-.2,d=.3_r\",\n",
    "                data=fifa21_data,)\n",
    "plt.legend(fontsize='10')"
   ]
  },
  {
   "cell_type": "code",
   "execution_count": null,
   "id": "231a321c",
   "metadata": {},
   "outputs": [],
   "source": []
  },
  {
   "cell_type": "code",
   "execution_count": 60,
   "id": "7be86c42",
   "metadata": {},
   "outputs": [
    {
     "data": {
      "image/png": "[encoded data removed]",
      "text/plain": [
       "<Figure size 1296x720 with 1 Axes>"
      ]
     },
     "metadata": {
      "needs_background": "light"
     },
     "output_type": "display_data"
    }
   ],
   "source": [
    "plt.figure(figsize=(18, 10))\n",
    "plt.title(\"Player Skills\")\n",
    "sns.boxplot(y='overall',x='skill_moves',hue='preferred_foot',data=fifa21);"
   ]
  },
  {
   "cell_type": "code",
   "execution_count": null,
   "id": "cf26d62d",
   "metadata": {},
   "outputs": [],
   "source": []
  },
  {
   "cell_type": "code",
   "execution_count": null,
   "id": "53cc3d2c",
   "metadata": {},
   "outputs": [],
   "source": []
  },
  {
   "cell_type": "markdown",
   "id": "108e695c",
   "metadata": {},
   "source": [
    "1. Who are the top 10 rated players overall?"
   ]
  },
  {
   "cell_type": "code",
   "execution_count": 93,
   "id": "0875fdf6",
   "metadata": {},
   "outputs": [
    {
     "data": {
      "text/html": [
       "<div>\n",
       "<style scoped>\n",
       "    .dataframe tbody tr th:only-of-type {\n",
       "        vertical-align: middle;\n",
       "    }\n",
       "\n",
       "    .dataframe tbody tr th {\n",
       "        vertical-align: top;\n",
       "    }\n",
       "\n",
       "    .dataframe thead th {\n",
       "        text-align: right;\n",
       "    }\n",
       "</style>\n",
       "<table border=\"1\" class=\"dataframe\">\n",
       "  <thead>\n",
       "    <tr style=\"text-align: right;\">\n",
       "      <th></th>\n",
       "      <th>overall</th>\n",
       "    </tr>\n",
       "    <tr>\n",
       "      <th>short_name</th>\n",
       "      <th></th>\n",
       "    </tr>\n",
       "  </thead>\n",
       "  <tbody>\n",
       "    <tr>\n",
       "      <th>L. Messi</th>\n",
       "      <td>93</td>\n",
       "    </tr>\n",
       "    <tr>\n",
       "      <th>Cristiano Ronaldo</th>\n",
       "      <td>92</td>\n",
       "    </tr>\n",
       "    <tr>\n",
       "      <th>J. Oblak</th>\n",
       "      <td>91</td>\n",
       "    </tr>\n",
       "    <tr>\n",
       "      <th>R. Lewandowski</th>\n",
       "      <td>91</td>\n",
       "    </tr>\n",
       "    <tr>\n",
       "      <th>Neymar Jr</th>\n",
       "      <td>91</td>\n",
       "    </tr>\n",
       "    <tr>\n",
       "      <th>K. De Bruyne</th>\n",
       "      <td>91</td>\n",
       "    </tr>\n",
       "    <tr>\n",
       "      <th>Alisson</th>\n",
       "      <td>90</td>\n",
       "    </tr>\n",
       "    <tr>\n",
       "      <th>S. Mané</th>\n",
       "      <td>90</td>\n",
       "    </tr>\n",
       "    <tr>\n",
       "      <th>M. Salah</th>\n",
       "      <td>90</td>\n",
       "    </tr>\n",
       "    <tr>\n",
       "      <th>V. van Dijk</th>\n",
       "      <td>90</td>\n",
       "    </tr>\n",
       "  </tbody>\n",
       "</table>\n",
       "</div>"
      ],
      "text/plain": [
       "                   overall\n",
       "short_name                \n",
       "L. Messi                93\n",
       "Cristiano Ronaldo       92\n",
       "J. Oblak                91\n",
       "R. Lewandowski          91\n",
       "Neymar Jr               91\n",
       "K. De Bruyne            91\n",
       "Alisson                 90\n",
       "S. Mané                 90\n",
       "M. Salah                90\n",
       "V. van Dijk             90"
      ]
     },
     "execution_count": 93,
     "metadata": {},
     "output_type": "execute_result"
    }
   ],
   "source": [
    "top_players = fifa21_data.sort_values(by='overall', ascending=False).head(10)\n",
    "top_players[[\"overall\"]]"
   ]
  },
  {
   "cell_type": "code",
   "execution_count": 82,
   "id": "328eabe1",
   "metadata": {},
   "outputs": [
    {
     "data": {
      "text/plain": [
       "['L. Messi',\n",
       " 'Cristiano Ronaldo',\n",
       " 'J. Oblak',\n",
       " 'R. Lewandowski',\n",
       " 'Neymar Jr',\n",
       " 'K. De Bruyne',\n",
       " 'Alisson',\n",
       " 'S. Mané',\n",
       " 'M. Salah',\n",
       " 'V. van Dijk']"
      ]
     },
     "execution_count": 82,
     "metadata": {},
     "output_type": "execute_result"
    }
   ],
   "source": [
    "[player for player in top_players.index]\n"
   ]
  },
  {
   "cell_type": "code",
   "execution_count": null,
   "id": "33dfa567",
   "metadata": {},
   "outputs": [],
   "source": []
  },
  {
   "cell_type": "markdown",
   "id": "e72d74ca",
   "metadata": {},
   "source": [
    "2. Plot the distribution of player ages."
   ]
  },
  {
   "cell_type": "code",
   "execution_count": 99,
   "id": "61f1eff7",
   "metadata": {},
   "outputs": [
    {
     "data": {
      "text/plain": [
       "Text(0.5, 1.0, 'Player Distribution by age')"
      ]
     },
     "execution_count": 99,
     "metadata": {},
     "output_type": "execute_result"
    },
    {
     "data": {
      "text/plain": [
       "<Figure size 1152x504 with 0 Axes>"
      ]
     },
     "metadata": {},
     "output_type": "display_data"
    },
    {
     "data": {
      "image/png": "[encoded data removed]",
      "text/plain": [
       "<Figure size 432x288 with 1 Axes>"
      ]
     },
     "metadata": {
      "needs_background": "light"
     },
     "output_type": "display_data"
    }
   ],
   "source": [
    "plt.figure(figsize=(16, 7))\n",
    "fifa21_data.plot(kind='scatter', x='overall', y='age');\n",
    "plt.title('Player Distribution by age')\n",
    "\n"
   ]
  },
  {
   "cell_type": "code",
   "execution_count": 108,
   "id": "967d3ba2",
   "metadata": {},
   "outputs": [
    {
     "data": {
      "image/png": "[encoded data removed]",
      "text/plain": [
       "<Figure size 720x432 with 1 Axes>"
      ]
     },
     "metadata": {
      "needs_background": "light"
     },
     "output_type": "display_data"
    }
   ],
   "source": [
    "# Histogram\n",
    "\n",
    "plt.figure(figsize=(10, 6))\n",
    "sns.histplot(data=fifa21_data['age'], bins=20, kde=True, color='green')\n",
    "plt.title('The Age distribution for the Players')\n",
    "plt.grid(axis='y', linestyle='--', alpha=0.74)"
   ]
  },
  {
   "cell_type": "code",
   "execution_count": 117,
   "id": "6986d6ff",
   "metadata": {},
   "outputs": [
    {
     "data": {
      "text/plain": [
       "Text(0, 0.5, 'Overall Rating')"
      ]
     },
     "execution_count": 117,
     "metadata": {},
     "output_type": "execute_result"
    },
    {
     "data": {
      "image/png": "[encoded data removed]",
      "text/plain": [
       "<Figure size 720x432 with 1 Axes>"
      ]
     },
     "metadata": {
      "needs_background": "light"
     },
     "output_type": "display_data"
    }
   ],
   "source": [
    "#  Average overall rating\n",
    "\n",
    "avg_overal_rating_by_age = fifa21_data.groupby(by='age')['overall'].mean()\n",
    "avg_overal_rating_by_age\n",
    "\n",
    "# Plot\n",
    "\n",
    "plt.figure(figsize=(10, 6))\n",
    "avg_overal_rating_by_age.plot(kind='line', marker='o', color='orangered')\n",
    "plt.title('Average Overall Rating', fontsize=20)\n",
    "plt.xlabel('Age', fontsize=20)\n",
    "plt.ylabel('Overall Rating', fontsize=20)"
   ]
  },
  {
   "cell_type": "code",
   "execution_count": null,
   "id": "bce8a2d7",
   "metadata": {},
   "outputs": [],
   "source": []
  },
  {
   "cell_type": "markdown",
   "id": "dafbf006",
   "metadata": {},
   "source": [
    "3. Which club has the most players?"
   ]
  },
  {
   "cell_type": "code",
   "execution_count": 118,
   "id": "7eae97f3",
   "metadata": {},
   "outputs": [
    {
     "data": {
      "text/html": [
       "<div>\n",
       "<style scoped>\n",
       "    .dataframe tbody tr th:only-of-type {\n",
       "        vertical-align: middle;\n",
       "    }\n",
       "\n",
       "    .dataframe tbody tr th {\n",
       "        vertical-align: top;\n",
       "    }\n",
       "\n",
       "    .dataframe thead th {\n",
       "        text-align: right;\n",
       "    }\n",
       "</style>\n",
       "<table border=\"1\" class=\"dataframe\">\n",
       "  <thead>\n",
       "    <tr style=\"text-align: right;\">\n",
       "      <th></th>\n",
       "      <th>player_url</th>\n",
       "      <th>long_name</th>\n",
       "      <th>age</th>\n",
       "      <th>dob</th>\n",
       "      <th>height_cm</th>\n",
       "      <th>weight_kg</th>\n",
       "      <th>nationality</th>\n",
       "      <th>club_name</th>\n",
       "      <th>league_name</th>\n",
       "      <th>league_rank</th>\n",
       "      <th>...</th>\n",
       "      <th>ldm</th>\n",
       "      <th>cdm</th>\n",
       "      <th>rdm</th>\n",
       "      <th>rwb</th>\n",
       "      <th>lb</th>\n",
       "      <th>lcb</th>\n",
       "      <th>cb</th>\n",
       "      <th>rcb</th>\n",
       "      <th>rb</th>\n",
       "      <th>bmi</th>\n",
       "    </tr>\n",
       "    <tr>\n",
       "      <th>short_name</th>\n",
       "      <th></th>\n",
       "      <th></th>\n",
       "      <th></th>\n",
       "      <th></th>\n",
       "      <th></th>\n",
       "      <th></th>\n",
       "      <th></th>\n",
       "      <th></th>\n",
       "      <th></th>\n",
       "      <th></th>\n",
       "      <th></th>\n",
       "      <th></th>\n",
       "      <th></th>\n",
       "      <th></th>\n",
       "      <th></th>\n",
       "      <th></th>\n",
       "      <th></th>\n",
       "      <th></th>\n",
       "      <th></th>\n",
       "      <th></th>\n",
       "      <th></th>\n",
       "    </tr>\n",
       "  </thead>\n",
       "  <tbody>\n",
       "    <tr>\n",
       "      <th>L. Messi</th>\n",
       "      <td>https://sofifa.com/player/158023/lionel-messi/...</td>\n",
       "      <td>Lionel Andrés Messi Cuccittini</td>\n",
       "      <td>33</td>\n",
       "      <td>1987-06-24</td>\n",
       "      <td>170</td>\n",
       "      <td>72</td>\n",
       "      <td>Argentina</td>\n",
       "      <td>FC Barcelona</td>\n",
       "      <td>Spain Primera Division</td>\n",
       "      <td>1.0</td>\n",
       "      <td>...</td>\n",
       "      <td>65+3</td>\n",
       "      <td>65+3</td>\n",
       "      <td>65+3</td>\n",
       "      <td>66+3</td>\n",
       "      <td>62+3</td>\n",
       "      <td>52+3</td>\n",
       "      <td>52+3</td>\n",
       "      <td>52+3</td>\n",
       "      <td>62+3</td>\n",
       "      <td>24.913495</td>\n",
       "    </tr>\n",
       "    <tr>\n",
       "      <th>Cristiano Ronaldo</th>\n",
       "      <td>https://sofifa.com/player/20801/c-ronaldo-dos-...</td>\n",
       "      <td>Cristiano Ronaldo dos Santos Aveiro</td>\n",
       "      <td>35</td>\n",
       "      <td>1985-02-05</td>\n",
       "      <td>187</td>\n",
       "      <td>83</td>\n",
       "      <td>Portugal</td>\n",
       "      <td>Juventus</td>\n",
       "      <td>Italian Serie A</td>\n",
       "      <td>1.0</td>\n",
       "      <td>...</td>\n",
       "      <td>61+3</td>\n",
       "      <td>61+3</td>\n",
       "      <td>61+3</td>\n",
       "      <td>65+3</td>\n",
       "      <td>61+3</td>\n",
       "      <td>54+3</td>\n",
       "      <td>54+3</td>\n",
       "      <td>54+3</td>\n",
       "      <td>61+3</td>\n",
       "      <td>23.735308</td>\n",
       "    </tr>\n",
       "    <tr>\n",
       "      <th>J. Oblak</th>\n",
       "      <td>https://sofifa.com/player/200389/jan-oblak/210002</td>\n",
       "      <td>Jan Oblak</td>\n",
       "      <td>27</td>\n",
       "      <td>1993-01-07</td>\n",
       "      <td>188</td>\n",
       "      <td>87</td>\n",
       "      <td>Slovenia</td>\n",
       "      <td>Atlético Madrid</td>\n",
       "      <td>Spain Primera Division</td>\n",
       "      <td>1.0</td>\n",
       "      <td>...</td>\n",
       "      <td>36+3</td>\n",
       "      <td>36+3</td>\n",
       "      <td>36+3</td>\n",
       "      <td>32+3</td>\n",
       "      <td>32+3</td>\n",
       "      <td>33+3</td>\n",
       "      <td>33+3</td>\n",
       "      <td>33+3</td>\n",
       "      <td>32+3</td>\n",
       "      <td>24.615211</td>\n",
       "    </tr>\n",
       "    <tr>\n",
       "      <th>R. Lewandowski</th>\n",
       "      <td>https://sofifa.com/player/188545/robert-lewand...</td>\n",
       "      <td>Robert Lewandowski</td>\n",
       "      <td>31</td>\n",
       "      <td>1988-08-21</td>\n",
       "      <td>184</td>\n",
       "      <td>80</td>\n",
       "      <td>Poland</td>\n",
       "      <td>FC Bayern München</td>\n",
       "      <td>German 1. Bundesliga</td>\n",
       "      <td>1.0</td>\n",
       "      <td>...</td>\n",
       "      <td>65+3</td>\n",
       "      <td>65+3</td>\n",
       "      <td>65+3</td>\n",
       "      <td>64+3</td>\n",
       "      <td>61+3</td>\n",
       "      <td>60+3</td>\n",
       "      <td>60+3</td>\n",
       "      <td>60+3</td>\n",
       "      <td>61+3</td>\n",
       "      <td>23.629490</td>\n",
       "    </tr>\n",
       "    <tr>\n",
       "      <th>Neymar Jr</th>\n",
       "      <td>https://sofifa.com/player/190871/neymar-da-sil...</td>\n",
       "      <td>Neymar da Silva Santos Júnior</td>\n",
       "      <td>28</td>\n",
       "      <td>1992-02-05</td>\n",
       "      <td>175</td>\n",
       "      <td>68</td>\n",
       "      <td>Brazil</td>\n",
       "      <td>Paris Saint-Germain</td>\n",
       "      <td>French Ligue 1</td>\n",
       "      <td>1.0</td>\n",
       "      <td>...</td>\n",
       "      <td>62+3</td>\n",
       "      <td>62+3</td>\n",
       "      <td>62+3</td>\n",
       "      <td>67+3</td>\n",
       "      <td>62+3</td>\n",
       "      <td>49+3</td>\n",
       "      <td>49+3</td>\n",
       "      <td>49+3</td>\n",
       "      <td>62+3</td>\n",
       "      <td>22.204082</td>\n",
       "    </tr>\n",
       "    <tr>\n",
       "      <th>K. De Bruyne</th>\n",
       "      <td>https://sofifa.com/player/192985/kevin-de-bruy...</td>\n",
       "      <td>Kevin De Bruyne</td>\n",
       "      <td>29</td>\n",
       "      <td>1991-06-28</td>\n",
       "      <td>181</td>\n",
       "      <td>70</td>\n",
       "      <td>Belgium</td>\n",
       "      <td>Manchester City</td>\n",
       "      <td>English Premier League</td>\n",
       "      <td>1.0</td>\n",
       "      <td>...</td>\n",
       "      <td>80+3</td>\n",
       "      <td>80+3</td>\n",
       "      <td>80+3</td>\n",
       "      <td>79+3</td>\n",
       "      <td>75+3</td>\n",
       "      <td>69+3</td>\n",
       "      <td>69+3</td>\n",
       "      <td>69+3</td>\n",
       "      <td>75+3</td>\n",
       "      <td>21.366869</td>\n",
       "    </tr>\n",
       "    <tr>\n",
       "      <th>K. Mbappé</th>\n",
       "      <td>https://sofifa.com/player/231747/kylian-mbappe...</td>\n",
       "      <td>Kylian Mbappé Lottin</td>\n",
       "      <td>21</td>\n",
       "      <td>1998-12-20</td>\n",
       "      <td>178</td>\n",
       "      <td>73</td>\n",
       "      <td>France</td>\n",
       "      <td>Paris Saint-Germain</td>\n",
       "      <td>French Ligue 1</td>\n",
       "      <td>1.0</td>\n",
       "      <td>...</td>\n",
       "      <td>63+3</td>\n",
       "      <td>63+3</td>\n",
       "      <td>63+3</td>\n",
       "      <td>67+3</td>\n",
       "      <td>63+3</td>\n",
       "      <td>55+3</td>\n",
       "      <td>55+3</td>\n",
       "      <td>55+3</td>\n",
       "      <td>63+3</td>\n",
       "      <td>23.040020</td>\n",
       "    </tr>\n",
       "    <tr>\n",
       "      <th>M. ter Stegen</th>\n",
       "      <td>https://sofifa.com/player/192448/marc-andre-te...</td>\n",
       "      <td>Marc-André ter Stegen</td>\n",
       "      <td>28</td>\n",
       "      <td>1992-04-30</td>\n",
       "      <td>187</td>\n",
       "      <td>85</td>\n",
       "      <td>Germany</td>\n",
       "      <td>FC Barcelona</td>\n",
       "      <td>Spain Primera Division</td>\n",
       "      <td>1.0</td>\n",
       "      <td>...</td>\n",
       "      <td>41+3</td>\n",
       "      <td>41+3</td>\n",
       "      <td>41+3</td>\n",
       "      <td>33+3</td>\n",
       "      <td>31+3</td>\n",
       "      <td>33+3</td>\n",
       "      <td>33+3</td>\n",
       "      <td>33+3</td>\n",
       "      <td>31+3</td>\n",
       "      <td>24.307244</td>\n",
       "    </tr>\n",
       "    <tr>\n",
       "      <th>V. van Dijk</th>\n",
       "      <td>https://sofifa.com/player/203376/virgil-van-di...</td>\n",
       "      <td>Virgil van Dijk</td>\n",
       "      <td>28</td>\n",
       "      <td>1991-07-08</td>\n",
       "      <td>193</td>\n",
       "      <td>92</td>\n",
       "      <td>Netherlands</td>\n",
       "      <td>Liverpool</td>\n",
       "      <td>English Premier League</td>\n",
       "      <td>1.0</td>\n",
       "      <td>...</td>\n",
       "      <td>85+3</td>\n",
       "      <td>85+3</td>\n",
       "      <td>85+3</td>\n",
       "      <td>80+3</td>\n",
       "      <td>82+3</td>\n",
       "      <td>89+2</td>\n",
       "      <td>89+2</td>\n",
       "      <td>89+2</td>\n",
       "      <td>82+3</td>\n",
       "      <td>24.698650</td>\n",
       "    </tr>\n",
       "    <tr>\n",
       "      <th>Alisson</th>\n",
       "      <td>https://sofifa.com/player/212831/alisson-ramse...</td>\n",
       "      <td>Alisson Ramsés Becker</td>\n",
       "      <td>27</td>\n",
       "      <td>1992-10-02</td>\n",
       "      <td>191</td>\n",
       "      <td>91</td>\n",
       "      <td>Brazil</td>\n",
       "      <td>Liverpool</td>\n",
       "      <td>English Premier League</td>\n",
       "      <td>1.0</td>\n",
       "      <td>...</td>\n",
       "      <td>35+3</td>\n",
       "      <td>35+3</td>\n",
       "      <td>35+3</td>\n",
       "      <td>31+3</td>\n",
       "      <td>30+3</td>\n",
       "      <td>30+3</td>\n",
       "      <td>30+3</td>\n",
       "      <td>30+3</td>\n",
       "      <td>30+3</td>\n",
       "      <td>24.944492</td>\n",
       "    </tr>\n",
       "  </tbody>\n",
       "</table>\n",
       "<p>10 rows × 105 columns</p>\n",
       "</div>"
      ],
      "text/plain": [
       "                                                          player_url  \\\n",
       "short_name                                                             \n",
       "L. Messi           https://sofifa.com/player/158023/lionel-messi/...   \n",
       "Cristiano Ronaldo  https://sofifa.com/player/20801/c-ronaldo-dos-...   \n",
       "J. Oblak           https://sofifa.com/player/200389/jan-oblak/210002   \n",
       "R. Lewandowski     https://sofifa.com/player/188545/robert-lewand...   \n",
       "Neymar Jr          https://sofifa.com/player/190871/neymar-da-sil...   \n",
       "K. De Bruyne       https://sofifa.com/player/192985/kevin-de-bruy...   \n",
       "K. Mbappé          https://sofifa.com/player/231747/kylian-mbappe...   \n",
       "M. ter Stegen      https://sofifa.com/player/192448/marc-andre-te...   \n",
       "V. van Dijk        https://sofifa.com/player/203376/virgil-van-di...   \n",
       "Alisson            https://sofifa.com/player/212831/alisson-ramse...   \n",
       "\n",
       "                                             long_name  age         dob  \\\n",
       "short_name                                                                \n",
       "L. Messi                Lionel Andrés Messi Cuccittini   33  1987-06-24   \n",
       "Cristiano Ronaldo  Cristiano Ronaldo dos Santos Aveiro   35  1985-02-05   \n",
       "J. Oblak                                     Jan Oblak   27  1993-01-07   \n",
       "R. Lewandowski                      Robert Lewandowski   31  1988-08-21   \n",
       "Neymar Jr                Neymar da Silva Santos Júnior   28  1992-02-05   \n",
       "K. De Bruyne                           Kevin De Bruyne   29  1991-06-28   \n",
       "K. Mbappé                         Kylian Mbappé Lottin   21  1998-12-20   \n",
       "M. ter Stegen                    Marc-André ter Stegen   28  1992-04-30   \n",
       "V. van Dijk                            Virgil van Dijk   28  1991-07-08   \n",
       "Alisson                          Alisson Ramsés Becker   27  1992-10-02   \n",
       "\n",
       "                   height_cm  weight_kg  nationality            club_name  \\\n",
       "short_name                                                                  \n",
       "L. Messi                 170         72    Argentina         FC Barcelona   \n",
       "Cristiano Ronaldo        187         83     Portugal             Juventus   \n",
       "J. Oblak                 188         87     Slovenia      Atlético Madrid   \n",
       "R. Lewandowski           184         80       Poland    FC Bayern München   \n",
       "Neymar Jr                175         68       Brazil  Paris Saint-Germain   \n",
       "K. De Bruyne             181         70      Belgium      Manchester City   \n",
       "K. Mbappé                178         73       France  Paris Saint-Germain   \n",
       "M. ter Stegen            187         85      Germany         FC Barcelona   \n",
       "V. van Dijk              193         92  Netherlands            Liverpool   \n",
       "Alisson                  191         91       Brazil            Liverpool   \n",
       "\n",
       "                              league_name  league_rank  ...   ldm   cdm   rdm  \\\n",
       "short_name                                              ...                     \n",
       "L. Messi           Spain Primera Division          1.0  ...  65+3  65+3  65+3   \n",
       "Cristiano Ronaldo         Italian Serie A          1.0  ...  61+3  61+3  61+3   \n",
       "J. Oblak           Spain Primera Division          1.0  ...  36+3  36+3  36+3   \n",
       "R. Lewandowski       German 1. Bundesliga          1.0  ...  65+3  65+3  65+3   \n",
       "Neymar Jr                  French Ligue 1          1.0  ...  62+3  62+3  62+3   \n",
       "K. De Bruyne       English Premier League          1.0  ...  80+3  80+3  80+3   \n",
       "K. Mbappé                  French Ligue 1          1.0  ...  63+3  63+3  63+3   \n",
       "M. ter Stegen      Spain Primera Division          1.0  ...  41+3  41+3  41+3   \n",
       "V. van Dijk        English Premier League          1.0  ...  85+3  85+3  85+3   \n",
       "Alisson            English Premier League          1.0  ...  35+3  35+3  35+3   \n",
       "\n",
       "                    rwb    lb   lcb    cb   rcb    rb        bmi  \n",
       "short_name                                                        \n",
       "L. Messi           66+3  62+3  52+3  52+3  52+3  62+3  24.913495  \n",
       "Cristiano Ronaldo  65+3  61+3  54+3  54+3  54+3  61+3  23.735308  \n",
       "J. Oblak           32+3  32+3  33+3  33+3  33+3  32+3  24.615211  \n",
       "R. Lewandowski     64+3  61+3  60+3  60+3  60+3  61+3  23.629490  \n",
       "Neymar Jr          67+3  62+3  49+3  49+3  49+3  62+3  22.204082  \n",
       "K. De Bruyne       79+3  75+3  69+3  69+3  69+3  75+3  21.366869  \n",
       "K. Mbappé          67+3  63+3  55+3  55+3  55+3  63+3  23.040020  \n",
       "M. ter Stegen      33+3  31+3  33+3  33+3  33+3  31+3  24.307244  \n",
       "V. van Dijk        80+3  82+3  89+2  89+2  89+2  82+3  24.698650  \n",
       "Alisson            31+3  30+3  30+3  30+3  30+3  30+3  24.944492  \n",
       "\n",
       "[10 rows x 105 columns]"
      ]
     },
     "execution_count": 118,
     "metadata": {},
     "output_type": "execute_result"
    }
   ],
   "source": [
    "fifa21_data.head(10)"
   ]
  },
  {
   "cell_type": "code",
   "execution_count": 120,
   "id": "728445af",
   "metadata": {},
   "outputs": [
    {
     "data": {
      "text/plain": [
       "FC Barcelona              33\n",
       "Benevento                 33\n",
       "Real Betis                33\n",
       "Olympique de Marseille    33\n",
       "Cádiz CF                  33\n",
       "Levante UD                33\n",
       "Crystal Palace            33\n",
       "Newcastle United          33\n",
       "Fulham                    33\n",
       "LOSC Lille                33\n",
       "Name: club_name, dtype: int64"
      ]
     },
     "execution_count": 120,
     "metadata": {},
     "output_type": "execute_result"
    }
   ],
   "source": [
    "fifa21_data['club_name'].value_counts().head(10)"
   ]
  },
  {
   "cell_type": "markdown",
   "id": "1d585529",
   "metadata": {},
   "source": [
    "4. Which nationality has the highest average overall rating?"
   ]
  },
  {
   "cell_type": "code",
   "execution_count": 121,
   "id": "e83d90b7",
   "metadata": {},
   "outputs": [
    {
     "data": {
      "text/html": [
       "<div>\n",
       "<style scoped>\n",
       "    .dataframe tbody tr th:only-of-type {\n",
       "        vertical-align: middle;\n",
       "    }\n",
       "\n",
       "    .dataframe tbody tr th {\n",
       "        vertical-align: top;\n",
       "    }\n",
       "\n",
       "    .dataframe thead th {\n",
       "        text-align: right;\n",
       "    }\n",
       "</style>\n",
       "<table border=\"1\" class=\"dataframe\">\n",
       "  <thead>\n",
       "    <tr style=\"text-align: right;\">\n",
       "      <th></th>\n",
       "      <th>player_url</th>\n",
       "      <th>long_name</th>\n",
       "      <th>age</th>\n",
       "      <th>dob</th>\n",
       "      <th>height_cm</th>\n",
       "      <th>weight_kg</th>\n",
       "      <th>nationality</th>\n",
       "      <th>club_name</th>\n",
       "      <th>league_name</th>\n",
       "      <th>league_rank</th>\n",
       "      <th>...</th>\n",
       "      <th>ldm</th>\n",
       "      <th>cdm</th>\n",
       "      <th>rdm</th>\n",
       "      <th>rwb</th>\n",
       "      <th>lb</th>\n",
       "      <th>lcb</th>\n",
       "      <th>cb</th>\n",
       "      <th>rcb</th>\n",
       "      <th>rb</th>\n",
       "      <th>bmi</th>\n",
       "    </tr>\n",
       "    <tr>\n",
       "      <th>short_name</th>\n",
       "      <th></th>\n",
       "      <th></th>\n",
       "      <th></th>\n",
       "      <th></th>\n",
       "      <th></th>\n",
       "      <th></th>\n",
       "      <th></th>\n",
       "      <th></th>\n",
       "      <th></th>\n",
       "      <th></th>\n",
       "      <th></th>\n",
       "      <th></th>\n",
       "      <th></th>\n",
       "      <th></th>\n",
       "      <th></th>\n",
       "      <th></th>\n",
       "      <th></th>\n",
       "      <th></th>\n",
       "      <th></th>\n",
       "      <th></th>\n",
       "      <th></th>\n",
       "    </tr>\n",
       "  </thead>\n",
       "  <tbody>\n",
       "    <tr>\n",
       "      <th>L. Messi</th>\n",
       "      <td>https://sofifa.com/player/158023/lionel-messi/...</td>\n",
       "      <td>Lionel Andrés Messi Cuccittini</td>\n",
       "      <td>33</td>\n",
       "      <td>1987-06-24</td>\n",
       "      <td>170</td>\n",
       "      <td>72</td>\n",
       "      <td>Argentina</td>\n",
       "      <td>FC Barcelona</td>\n",
       "      <td>Spain Primera Division</td>\n",
       "      <td>1.0</td>\n",
       "      <td>...</td>\n",
       "      <td>65+3</td>\n",
       "      <td>65+3</td>\n",
       "      <td>65+3</td>\n",
       "      <td>66+3</td>\n",
       "      <td>62+3</td>\n",
       "      <td>52+3</td>\n",
       "      <td>52+3</td>\n",
       "      <td>52+3</td>\n",
       "      <td>62+3</td>\n",
       "      <td>24.913495</td>\n",
       "    </tr>\n",
       "    <tr>\n",
       "      <th>Cristiano Ronaldo</th>\n",
       "      <td>https://sofifa.com/player/20801/c-ronaldo-dos-...</td>\n",
       "      <td>Cristiano Ronaldo dos Santos Aveiro</td>\n",
       "      <td>35</td>\n",
       "      <td>1985-02-05</td>\n",
       "      <td>187</td>\n",
       "      <td>83</td>\n",
       "      <td>Portugal</td>\n",
       "      <td>Juventus</td>\n",
       "      <td>Italian Serie A</td>\n",
       "      <td>1.0</td>\n",
       "      <td>...</td>\n",
       "      <td>61+3</td>\n",
       "      <td>61+3</td>\n",
       "      <td>61+3</td>\n",
       "      <td>65+3</td>\n",
       "      <td>61+3</td>\n",
       "      <td>54+3</td>\n",
       "      <td>54+3</td>\n",
       "      <td>54+3</td>\n",
       "      <td>61+3</td>\n",
       "      <td>23.735308</td>\n",
       "    </tr>\n",
       "    <tr>\n",
       "      <th>J. Oblak</th>\n",
       "      <td>https://sofifa.com/player/200389/jan-oblak/210002</td>\n",
       "      <td>Jan Oblak</td>\n",
       "      <td>27</td>\n",
       "      <td>1993-01-07</td>\n",
       "      <td>188</td>\n",
       "      <td>87</td>\n",
       "      <td>Slovenia</td>\n",
       "      <td>Atlético Madrid</td>\n",
       "      <td>Spain Primera Division</td>\n",
       "      <td>1.0</td>\n",
       "      <td>...</td>\n",
       "      <td>36+3</td>\n",
       "      <td>36+3</td>\n",
       "      <td>36+3</td>\n",
       "      <td>32+3</td>\n",
       "      <td>32+3</td>\n",
       "      <td>33+3</td>\n",
       "      <td>33+3</td>\n",
       "      <td>33+3</td>\n",
       "      <td>32+3</td>\n",
       "      <td>24.615211</td>\n",
       "    </tr>\n",
       "    <tr>\n",
       "      <th>R. Lewandowski</th>\n",
       "      <td>https://sofifa.com/player/188545/robert-lewand...</td>\n",
       "      <td>Robert Lewandowski</td>\n",
       "      <td>31</td>\n",
       "      <td>1988-08-21</td>\n",
       "      <td>184</td>\n",
       "      <td>80</td>\n",
       "      <td>Poland</td>\n",
       "      <td>FC Bayern München</td>\n",
       "      <td>German 1. Bundesliga</td>\n",
       "      <td>1.0</td>\n",
       "      <td>...</td>\n",
       "      <td>65+3</td>\n",
       "      <td>65+3</td>\n",
       "      <td>65+3</td>\n",
       "      <td>64+3</td>\n",
       "      <td>61+3</td>\n",
       "      <td>60+3</td>\n",
       "      <td>60+3</td>\n",
       "      <td>60+3</td>\n",
       "      <td>61+3</td>\n",
       "      <td>23.629490</td>\n",
       "    </tr>\n",
       "    <tr>\n",
       "      <th>Neymar Jr</th>\n",
       "      <td>https://sofifa.com/player/190871/neymar-da-sil...</td>\n",
       "      <td>Neymar da Silva Santos Júnior</td>\n",
       "      <td>28</td>\n",
       "      <td>1992-02-05</td>\n",
       "      <td>175</td>\n",
       "      <td>68</td>\n",
       "      <td>Brazil</td>\n",
       "      <td>Paris Saint-Germain</td>\n",
       "      <td>French Ligue 1</td>\n",
       "      <td>1.0</td>\n",
       "      <td>...</td>\n",
       "      <td>62+3</td>\n",
       "      <td>62+3</td>\n",
       "      <td>62+3</td>\n",
       "      <td>67+3</td>\n",
       "      <td>62+3</td>\n",
       "      <td>49+3</td>\n",
       "      <td>49+3</td>\n",
       "      <td>49+3</td>\n",
       "      <td>62+3</td>\n",
       "      <td>22.204082</td>\n",
       "    </tr>\n",
       "  </tbody>\n",
       "</table>\n",
       "<p>5 rows × 105 columns</p>\n",
       "</div>"
      ],
      "text/plain": [
       "                                                          player_url  \\\n",
       "short_name                                                             \n",
       "L. Messi           https://sofifa.com/player/158023/lionel-messi/...   \n",
       "Cristiano Ronaldo  https://sofifa.com/player/20801/c-ronaldo-dos-...   \n",
       "J. Oblak           https://sofifa.com/player/200389/jan-oblak/210002   \n",
       "R. Lewandowski     https://sofifa.com/player/188545/robert-lewand...   \n",
       "Neymar Jr          https://sofifa.com/player/190871/neymar-da-sil...   \n",
       "\n",
       "                                             long_name  age         dob  \\\n",
       "short_name                                                                \n",
       "L. Messi                Lionel Andrés Messi Cuccittini   33  1987-06-24   \n",
       "Cristiano Ronaldo  Cristiano Ronaldo dos Santos Aveiro   35  1985-02-05   \n",
       "J. Oblak                                     Jan Oblak   27  1993-01-07   \n",
       "R. Lewandowski                      Robert Lewandowski   31  1988-08-21   \n",
       "Neymar Jr                Neymar da Silva Santos Júnior   28  1992-02-05   \n",
       "\n",
       "                   height_cm  weight_kg nationality            club_name  \\\n",
       "short_name                                                                 \n",
       "L. Messi                 170         72   Argentina         FC Barcelona   \n",
       "Cristiano Ronaldo        187         83    Portugal             Juventus   \n",
       "J. Oblak                 188         87    Slovenia      Atlético Madrid   \n",
       "R. Lewandowski           184         80      Poland    FC Bayern München   \n",
       "Neymar Jr                175         68      Brazil  Paris Saint-Germain   \n",
       "\n",
       "                              league_name  league_rank  ...   ldm   cdm   rdm  \\\n",
       "short_name                                              ...                     \n",
       "L. Messi           Spain Primera Division          1.0  ...  65+3  65+3  65+3   \n",
       "Cristiano Ronaldo         Italian Serie A          1.0  ...  61+3  61+3  61+3   \n",
       "J. Oblak           Spain Primera Division          1.0  ...  36+3  36+3  36+3   \n",
       "R. Lewandowski       German 1. Bundesliga          1.0  ...  65+3  65+3  65+3   \n",
       "Neymar Jr                  French Ligue 1          1.0  ...  62+3  62+3  62+3   \n",
       "\n",
       "                    rwb    lb   lcb    cb   rcb    rb        bmi  \n",
       "short_name                                                        \n",
       "L. Messi           66+3  62+3  52+3  52+3  52+3  62+3  24.913495  \n",
       "Cristiano Ronaldo  65+3  61+3  54+3  54+3  54+3  61+3  23.735308  \n",
       "J. Oblak           32+3  32+3  33+3  33+3  33+3  32+3  24.615211  \n",
       "R. Lewandowski     64+3  61+3  60+3  60+3  60+3  61+3  23.629490  \n",
       "Neymar Jr          67+3  62+3  49+3  49+3  49+3  62+3  22.204082  \n",
       "\n",
       "[5 rows x 105 columns]"
      ]
     },
     "execution_count": 121,
     "metadata": {},
     "output_type": "execute_result"
    }
   ],
   "source": [
    "fifa21_data.head(5)"
   ]
  },
  {
   "cell_type": "code",
   "execution_count": 127,
   "id": "f5729800",
   "metadata": {},
   "outputs": [
    {
     "data": {
      "text/plain": [
       "nationality\n",
       "Tanzania         76.000000\n",
       "Chad             73.000000\n",
       "Mozambique       72.200000\n",
       "Bermuda          72.000000\n",
       "Armenia          71.500000\n",
       "Libya            71.250000\n",
       "Egypt            71.172414\n",
       "Puerto Rico      71.000000\n",
       "New Caledonia    71.000000\n",
       "Brazil           70.961669\n",
       "Name: overall, dtype: float64"
      ]
     },
     "execution_count": 127,
     "metadata": {},
     "output_type": "execute_result"
    }
   ],
   "source": [
    "nationality_grouped = fifa21_data.groupby(by='nationality')['overall'].mean()\n",
    "nationality_grouped.sort_values(ascending=False).head(10)"
   ]
  },
  {
   "cell_type": "code",
   "execution_count": 138,
   "id": "42a14800",
   "metadata": {},
   "outputs": [
    {
     "name": "stdout",
     "output_type": "stream",
     "text": [
      "Valid Nations \n",
      "\n",
      " Index(['England', 'Germany', 'Spain', 'France', 'Argentina', 'Brazil', 'Japan',\n",
      "       'Netherlands', 'Italy', 'United States', 'Sweden', 'China PR', 'Norway',\n",
      "       'Mexico', 'Poland', 'Portugal', 'Uruguay', 'Turkey', 'Korea Republic',\n",
      "       'Colombia', 'Republic of Ireland', 'Romania', 'Austria', 'Saudi Arabia',\n",
      "       'Denmark', 'Belgium', 'Scotland', 'Ecuador', 'Australia', 'Paraguay',\n",
      "       'Switzerland', 'Venezuela', 'Chile', 'Peru', 'Bolivia', 'Croatia',\n",
      "       'Serbia', 'Senegal', 'Nigeria', 'Wales', 'Ghana', 'Czech Republic',\n",
      "       'Ivory Coast', 'Greece', 'Northern Ireland', 'Morocco', 'Canada',\n",
      "       'Russia', 'Cameroon', 'South Africa', 'Slovakia', 'Bosnia Herzegovina',\n",
      "       'DR Congo', 'Finland', 'Ukraine', 'Iceland', 'Slovenia', 'Algeria',\n",
      "       'Mali'],\n",
      "      dtype='object')\n"
     ]
    },
    {
     "data": {
      "text/plain": [
       "nationality\n",
       "Brazil            70.961669\n",
       "Ukraine           70.815385\n",
       "Algeria           70.807692\n",
       "Russia            70.207792\n",
       "Czech Republic    69.864865\n",
       "Portugal          69.804533\n",
       "Morocco           69.750000\n",
       "Croatia           69.318182\n",
       "Spain             69.261194\n",
       "Serbia            68.792308\n",
       "Name: overall, dtype: float64"
      ]
     },
     "execution_count": 138,
     "metadata": {},
     "output_type": "execute_result"
    }
   ],
   "source": [
    "# Filtering out nationalities with very few players avoids skewed results.\n",
    "nationality_counts = fifa21_data['nationality'].value_counts()\n",
    "nationality_counts\n",
    "\n",
    "# Keep only nationalities with at least 50 players\n",
    "valid_nations = nationality_counts[nationality_counts >= 50].index\n",
    "print('Valid Nations \\n\\n', valid_nations)\n",
    "\n",
    "# Filter the Dataset\n",
    "filtered_data = fifa21_data[fifa21_data['nationality'].isin(valid_nations)]\n",
    "\n",
    "# Group by nationality and compute average overall rating\n",
    "nationality_avg_rating = (\n",
    "    filtered_data.groupby('nationality')['overall']\n",
    "    .mean()\n",
    "    .sort_values(ascending=False))\n",
    "\n",
    "nationality_avg_rating.head(10)"
   ]
  },
  {
   "cell_type": "code",
   "execution_count": 142,
   "id": "a6a59095",
   "metadata": {},
   "outputs": [
    {
     "data": {
      "text/plain": [
       "Text(0.5, 0, 'Nationality')"
      ]
     },
     "execution_count": 142,
     "metadata": {},
     "output_type": "execute_result"
    },
    {
     "data": {
      "image/png": "[encoded data removed]",
      "text/plain": [
       "<Figure size 720x432 with 1 Axes>"
      ]
     },
     "metadata": {
      "needs_background": "light"
     },
     "output_type": "display_data"
    }
   ],
   "source": [
    "# bar\n",
    "top10 = nationality_avg_rating.head(10)\n",
    "plt.figure(figsize=(10, 6))\n",
    "top10.plot(kind='bar', color='blue')\n",
    "plt.title(\"Top 10 Nationalities by Average Overall Rating (≥50 players)\", fontsize=14)\n",
    "plt.ylabel(\"Average Overall Rating\")\n",
    "plt.xlabel('Nationality')"
   ]
  },
  {
   "cell_type": "code",
   "execution_count": 151,
   "id": "c3bf261f",
   "metadata": {},
   "outputs": [
    {
     "data": {
      "text/html": [
       "<div>\n",
       "<style scoped>\n",
       "    .dataframe tbody tr th:only-of-type {\n",
       "        vertical-align: middle;\n",
       "    }\n",
       "\n",
       "    .dataframe tbody tr th {\n",
       "        vertical-align: top;\n",
       "    }\n",
       "\n",
       "    .dataframe thead th {\n",
       "        text-align: right;\n",
       "    }\n",
       "</style>\n",
       "<table border=\"1\" class=\"dataframe\">\n",
       "  <thead>\n",
       "    <tr style=\"text-align: right;\">\n",
       "      <th></th>\n",
       "      <th>Unnamed: 0</th>\n",
       "      <th>sofifa_id</th>\n",
       "      <th>player_url</th>\n",
       "      <th>short_name</th>\n",
       "      <th>long_name</th>\n",
       "      <th>age</th>\n",
       "      <th>dob</th>\n",
       "      <th>height_cm</th>\n",
       "      <th>weight_kg</th>\n",
       "      <th>nationality</th>\n",
       "      <th>...</th>\n",
       "      <th>ldm</th>\n",
       "      <th>cdm</th>\n",
       "      <th>rdm</th>\n",
       "      <th>rwb</th>\n",
       "      <th>lb</th>\n",
       "      <th>lcb</th>\n",
       "      <th>cb</th>\n",
       "      <th>rcb</th>\n",
       "      <th>rb</th>\n",
       "      <th>value_num</th>\n",
       "    </tr>\n",
       "  </thead>\n",
       "  <tbody>\n",
       "    <tr>\n",
       "      <th>0</th>\n",
       "      <td>0</td>\n",
       "      <td>158023</td>\n",
       "      <td>https://sofifa.com/player/158023/lionel-messi/...</td>\n",
       "      <td>L. Messi</td>\n",
       "      <td>Lionel Andrés Messi Cuccittini</td>\n",
       "      <td>33</td>\n",
       "      <td>1987-06-24</td>\n",
       "      <td>170</td>\n",
       "      <td>72</td>\n",
       "      <td>Argentina</td>\n",
       "      <td>...</td>\n",
       "      <td>65+3</td>\n",
       "      <td>65+3</td>\n",
       "      <td>65+3</td>\n",
       "      <td>66+3</td>\n",
       "      <td>62+3</td>\n",
       "      <td>52+3</td>\n",
       "      <td>52+3</td>\n",
       "      <td>52+3</td>\n",
       "      <td>62+3</td>\n",
       "      <td>0.0</td>\n",
       "    </tr>\n",
       "    <tr>\n",
       "      <th>1</th>\n",
       "      <td>1</td>\n",
       "      <td>20801</td>\n",
       "      <td>https://sofifa.com/player/20801/c-ronaldo-dos-...</td>\n",
       "      <td>Cristiano Ronaldo</td>\n",
       "      <td>Cristiano Ronaldo dos Santos Aveiro</td>\n",
       "      <td>35</td>\n",
       "      <td>1985-02-05</td>\n",
       "      <td>187</td>\n",
       "      <td>83</td>\n",
       "      <td>Portugal</td>\n",
       "      <td>...</td>\n",
       "      <td>61+3</td>\n",
       "      <td>61+3</td>\n",
       "      <td>61+3</td>\n",
       "      <td>65+3</td>\n",
       "      <td>61+3</td>\n",
       "      <td>54+3</td>\n",
       "      <td>54+3</td>\n",
       "      <td>54+3</td>\n",
       "      <td>61+3</td>\n",
       "      <td>0.0</td>\n",
       "    </tr>\n",
       "    <tr>\n",
       "      <th>2</th>\n",
       "      <td>2</td>\n",
       "      <td>200389</td>\n",
       "      <td>https://sofifa.com/player/200389/jan-oblak/210002</td>\n",
       "      <td>J. Oblak</td>\n",
       "      <td>Jan Oblak</td>\n",
       "      <td>27</td>\n",
       "      <td>1993-01-07</td>\n",
       "      <td>188</td>\n",
       "      <td>87</td>\n",
       "      <td>Slovenia</td>\n",
       "      <td>...</td>\n",
       "      <td>36+3</td>\n",
       "      <td>36+3</td>\n",
       "      <td>36+3</td>\n",
       "      <td>32+3</td>\n",
       "      <td>32+3</td>\n",
       "      <td>33+3</td>\n",
       "      <td>33+3</td>\n",
       "      <td>33+3</td>\n",
       "      <td>32+3</td>\n",
       "      <td>0.0</td>\n",
       "    </tr>\n",
       "  </tbody>\n",
       "</table>\n",
       "<p>3 rows × 108 columns</p>\n",
       "</div>"
      ],
      "text/plain": [
       "   Unnamed: 0  sofifa_id                                         player_url  \\\n",
       "0           0     158023  https://sofifa.com/player/158023/lionel-messi/...   \n",
       "1           1      20801  https://sofifa.com/player/20801/c-ronaldo-dos-...   \n",
       "2           2     200389  https://sofifa.com/player/200389/jan-oblak/210002   \n",
       "\n",
       "          short_name                            long_name  age         dob  \\\n",
       "0           L. Messi       Lionel Andrés Messi Cuccittini   33  1987-06-24   \n",
       "1  Cristiano Ronaldo  Cristiano Ronaldo dos Santos Aveiro   35  1985-02-05   \n",
       "2           J. Oblak                            Jan Oblak   27  1993-01-07   \n",
       "\n",
       "   height_cm  weight_kg nationality  ...   ldm   cdm   rdm   rwb    lb   lcb  \\\n",
       "0        170         72   Argentina  ...  65+3  65+3  65+3  66+3  62+3  52+3   \n",
       "1        187         83    Portugal  ...  61+3  61+3  61+3  65+3  61+3  54+3   \n",
       "2        188         87    Slovenia  ...  36+3  36+3  36+3  32+3  32+3  33+3   \n",
       "\n",
       "     cb   rcb    rb  value_num  \n",
       "0  52+3  52+3  62+3        0.0  \n",
       "1  54+3  54+3  61+3        0.0  \n",
       "2  33+3  33+3  32+3        0.0  \n",
       "\n",
       "[3 rows x 108 columns]"
      ]
     },
     "execution_count": 151,
     "metadata": {},
     "output_type": "execute_result"
    }
   ],
   "source": [
    "fifa21_data.head(3)"
   ]
  },
  {
   "cell_type": "markdown",
   "id": "f7e81c40",
   "metadata": {},
   "source": [
    "5. Compare average player value of defenders vs. forwards."
   ]
  },
  {
   "cell_type": "code",
   "execution_count": null,
   "id": "806d38ed",
   "metadata": {},
   "outputs": [
    {
     "data": {
      "text/html": [
       "<div>\n",
       "<style scoped>\n",
       "    .dataframe tbody tr th:only-of-type {\n",
       "        vertical-align: middle;\n",
       "    }\n",
       "\n",
       "    .dataframe tbody tr th {\n",
       "        vertical-align: top;\n",
       "    }\n",
       "\n",
       "    .dataframe thead th {\n",
       "        text-align: right;\n",
       "    }\n",
       "</style>\n",
       "<table border=\"1\" class=\"dataframe\">\n",
       "  <thead>\n",
       "    <tr style=\"text-align: right;\">\n",
       "      <th></th>\n",
       "      <th>Unnamed: 0</th>\n",
       "      <th>sofifa_id</th>\n",
       "      <th>player_url</th>\n",
       "      <th>short_name</th>\n",
       "      <th>long_name</th>\n",
       "      <th>age</th>\n",
       "      <th>dob</th>\n",
       "      <th>height_cm</th>\n",
       "      <th>weight_kg</th>\n",
       "      <th>nationality</th>\n",
       "      <th>...</th>\n",
       "      <th>ldm</th>\n",
       "      <th>cdm</th>\n",
       "      <th>rdm</th>\n",
       "      <th>rwb</th>\n",
       "      <th>lb</th>\n",
       "      <th>lcb</th>\n",
       "      <th>cb</th>\n",
       "      <th>rcb</th>\n",
       "      <th>rb</th>\n",
       "      <th>value_num</th>\n",
       "    </tr>\n",
       "  </thead>\n",
       "  <tbody>\n",
       "    <tr>\n",
       "      <th>18940</th>\n",
       "      <td>18940</td>\n",
       "      <td>257710</td>\n",
       "      <td>https://sofifa.com/player/257710/mengxuan-zhan...</td>\n",
       "      <td>Zhang Mengxuan</td>\n",
       "      <td>Mengxuan Zhang</td>\n",
       "      <td>21</td>\n",
       "      <td>1999-04-26</td>\n",
       "      <td>177</td>\n",
       "      <td>70</td>\n",
       "      <td>China PR</td>\n",
       "      <td>...</td>\n",
       "      <td>41+2</td>\n",
       "      <td>41+2</td>\n",
       "      <td>41+2</td>\n",
       "      <td>42+2</td>\n",
       "      <td>45+2</td>\n",
       "      <td>47+2</td>\n",
       "      <td>47+2</td>\n",
       "      <td>47+2</td>\n",
       "      <td>45+2</td>\n",
       "      <td>0.0</td>\n",
       "    </tr>\n",
       "    <tr>\n",
       "      <th>18941</th>\n",
       "      <td>18941</td>\n",
       "      <td>250989</td>\n",
       "      <td>https://sofifa.com/player/250989/zhenghao-wang...</td>\n",
       "      <td>Wang Zhenghao</td>\n",
       "      <td>王政豪</td>\n",
       "      <td>20</td>\n",
       "      <td>2000-06-28</td>\n",
       "      <td>185</td>\n",
       "      <td>74</td>\n",
       "      <td>China PR</td>\n",
       "      <td>...</td>\n",
       "      <td>42+2</td>\n",
       "      <td>42+2</td>\n",
       "      <td>42+2</td>\n",
       "      <td>42+2</td>\n",
       "      <td>44+2</td>\n",
       "      <td>47+2</td>\n",
       "      <td>47+2</td>\n",
       "      <td>47+2</td>\n",
       "      <td>44+2</td>\n",
       "      <td>0.0</td>\n",
       "    </tr>\n",
       "    <tr>\n",
       "      <th>18942</th>\n",
       "      <td>18942</td>\n",
       "      <td>257697</td>\n",
       "      <td>https://sofifa.com/player/257697/zitong-chen/2...</td>\n",
       "      <td>Chen Zitong</td>\n",
       "      <td>Zitong Chen</td>\n",
       "      <td>23</td>\n",
       "      <td>1997-02-20</td>\n",
       "      <td>186</td>\n",
       "      <td>80</td>\n",
       "      <td>China PR</td>\n",
       "      <td>...</td>\n",
       "      <td>49+2</td>\n",
       "      <td>49+2</td>\n",
       "      <td>49+2</td>\n",
       "      <td>47+2</td>\n",
       "      <td>47+2</td>\n",
       "      <td>49+2</td>\n",
       "      <td>49+2</td>\n",
       "      <td>49+2</td>\n",
       "      <td>47+2</td>\n",
       "      <td>0.0</td>\n",
       "    </tr>\n",
       "    <tr>\n",
       "      <th>18943</th>\n",
       "      <td>18943</td>\n",
       "      <td>257936</td>\n",
       "      <td>https://sofifa.com/player/257936/yue-song/210002</td>\n",
       "      <td>Song Yue</td>\n",
       "      <td>Yue Song</td>\n",
       "      <td>28</td>\n",
       "      <td>1991-11-20</td>\n",
       "      <td>185</td>\n",
       "      <td>79</td>\n",
       "      <td>China PR</td>\n",
       "      <td>...</td>\n",
       "      <td>47+0</td>\n",
       "      <td>47+0</td>\n",
       "      <td>47+0</td>\n",
       "      <td>47+0</td>\n",
       "      <td>47+0</td>\n",
       "      <td>46+1</td>\n",
       "      <td>46+1</td>\n",
       "      <td>46+1</td>\n",
       "      <td>47+0</td>\n",
       "      <td>0.0</td>\n",
       "    </tr>\n",
       "  </tbody>\n",
       "</table>\n",
       "<p>4 rows × 108 columns</p>\n",
       "</div>"
      ],
      "text/plain": [
       "       Unnamed: 0  sofifa_id  \\\n",
       "18940       18940     257710   \n",
       "18941       18941     250989   \n",
       "18942       18942     257697   \n",
       "18943       18943     257936   \n",
       "\n",
       "                                              player_url      short_name  \\\n",
       "18940  https://sofifa.com/player/257710/mengxuan-zhan...  Zhang Mengxuan   \n",
       "18941  https://sofifa.com/player/250989/zhenghao-wang...   Wang Zhenghao   \n",
       "18942  https://sofifa.com/player/257697/zitong-chen/2...     Chen Zitong   \n",
       "18943   https://sofifa.com/player/257936/yue-song/210002        Song Yue   \n",
       "\n",
       "            long_name  age         dob  height_cm  weight_kg nationality  ...  \\\n",
       "18940  Mengxuan Zhang   21  1999-04-26        177         70    China PR  ...   \n",
       "18941             王政豪   20  2000-06-28        185         74    China PR  ...   \n",
       "18942     Zitong Chen   23  1997-02-20        186         80    China PR  ...   \n",
       "18943        Yue Song   28  1991-11-20        185         79    China PR  ...   \n",
       "\n",
       "        ldm   cdm   rdm   rwb    lb   lcb    cb   rcb    rb  value_num  \n",
       "18940  41+2  41+2  41+2  42+2  45+2  47+2  47+2  47+2  45+2        0.0  \n",
       "18941  42+2  42+2  42+2  42+2  44+2  47+2  47+2  47+2  44+2        0.0  \n",
       "18942  49+2  49+2  49+2  47+2  47+2  49+2  49+2  49+2  47+2        0.0  \n",
       "18943  47+0  47+0  47+0  47+0  47+0  46+1  46+1  46+1  47+0        0.0  \n",
       "\n",
       "[4 rows x 108 columns]"
      ]
     },
     "execution_count": 150,
     "metadata": {},
     "output_type": "execute_result"
    }
   ],
   "source": [
    "# Convert the fifa values to numeric\n",
    "def value_to_numeric(value):\n",
    "    if isinstance(value, str):\n",
    "        value = value.replace('€', '')\n",
    "        return float(eval(value))\n",
    "    return 0.0\n",
    "\n",
    "\n",
    "# Apply the conversion\n",
    "fifa21_data['value_num'] = fifa21_data['value_eur'].apply(value_to_numeric)\n",
    "fifa21_data.tail(4)\n",
    "\n",
    "# Classify the positions\n",
    "\n",
    "def position_group(pos):\n",
    "    if pos in ['CB', 'LB', 'LCB', 'RB', 'RWB', 'RCB', 'RB']:\n",
    "        return 'Defender'\n",
    "    elif pos in ['ST', 'CF', 'LW', 'RW', 'LF', 'RF']:\n",
    "        return 'Forward'\n",
    "    else:\n",
    "        return 'other'\n",
    "\n",
    "\n",
    "fifa21_data['Role'] = fifa21_data['Pos']"
   ]
  },
  {
   "cell_type": "code",
   "execution_count": 152,
   "id": "eca10f66",
   "metadata": {},
   "outputs": [
    {
     "data": {
      "text/plain": [
       "0        67500000\n",
       "1        46000000\n",
       "2        75000000\n",
       "3        80000000\n",
       "4        90000000\n",
       "           ...   \n",
       "18939       40000\n",
       "18940       35000\n",
       "18941       35000\n",
       "18942       40000\n",
       "18943       30000\n",
       "Name: value_eur, Length: 18944, dtype: int64"
      ]
     },
     "execution_count": 152,
     "metadata": {},
     "output_type": "execute_result"
    }
   ],
   "source": [
    "fifa21_data['value_eur']"
   ]
  },
  {
   "cell_type": "code",
   "execution_count": 153,
   "id": "4fe598a1",
   "metadata": {},
   "outputs": [
    {
     "data": {
      "text/plain": [
       "Index(['Unnamed: 0', 'sofifa_id', 'player_url', 'short_name', 'long_name',\n",
       "       'age', 'dob', 'height_cm', 'weight_kg', 'nationality',\n",
       "       ...\n",
       "       'ldm', 'cdm', 'rdm', 'rwb', 'lb', 'lcb', 'cb', 'rcb', 'rb',\n",
       "       'value_num'],\n",
       "      dtype='object', length=108)"
      ]
     },
     "execution_count": 153,
     "metadata": {},
     "output_type": "execute_result"
    }
   ],
   "source": [
    "fifa21_data.columns"
   ]
  },
  {
   "cell_type": "code",
   "execution_count": null,
   "id": "44b184d5",
   "metadata": {},
   "outputs": [],
   "source": []
  },
  {
   "cell_type": "code",
   "execution_count": null,
   "id": "a840c3cf",
   "metadata": {},
   "outputs": [],
   "source": [
    "defender_positions = [\"cb\", \"rb\", \"lb\", \"rcb\", \"lcb\", \"rwb\", \"lwb\"]\n",
    "forward_positions = [\"st\", \"cf\", \"lw\", \"rw\", \"rf\", \"lf\"]\n",
    "\n",
    "# Classify players based on their strongest position\n",
    "\n",
    "def classify_position(row):\n",
    "    if row[defender_positions].max() > 0:\n",
    "        return 'Defender'\n",
    "    elif row[forward_positions].max() > 0:\n",
    "        return 'Forward'\n",
    "    else:\n",
    "        return 'Other'\n",
    "    \n",
    "fifa21_data['role'] = fifa21_data.apply(classify_position, axis=1)\n",
    "\n",
    "avg_value = fifa21_data.groupby('role')['value_eur'].mean().round(2)\n",
    "print(avg_value)\n",
    "# Plot comparison (Defenders vs Forwards only)\n",
    "avg_value.loc[[\"Defender\", \"Forward\"]].plot(\n",
    "    kind=\"bar\", color=[\"steelblue\", \"salmon\"], edgecolor=\"black\", figsize=(7,5)\n",
    ")\n",
    "\n",
    "plt.title(\"Average Player Value: Defenders vs. Forwards\", fontsize=14)\n",
    "plt.ylabel(\"Average Value (€)\")\n",
    "plt.xticks(rotation=0)\n",
    "plt.grid(axis=\"y\", linestyle=\"--\", alpha=0.7)\n",
    "plt.show()"
   ]
  },
  {
   "cell_type": "code",
   "execution_count": null,
   "id": "51a79fe5",
   "metadata": {},
   "outputs": [],
   "source": []
  },
  {
   "cell_type": "markdown",
   "id": "decb3479",
   "metadata": {},
   "source": [
    "6. What’s the relationship between player rating and wage?"
   ]
  },
  {
   "cell_type": "code",
   "execution_count": 156,
   "id": "d99d304a",
   "metadata": {},
   "outputs": [
    {
     "data": {
      "text/plain": [
       "Index(['Unnamed: 0', 'sofifa_id', 'player_url', 'short_name', 'long_name',\n",
       "       'age', 'dob', 'height_cm', 'weight_kg', 'nationality',\n",
       "       ...\n",
       "       'ldm', 'cdm', 'rdm', 'rwb', 'lb', 'lcb', 'cb', 'rcb', 'rb',\n",
       "       'value_num'],\n",
       "      dtype='object', length=108)"
      ]
     },
     "execution_count": 156,
     "metadata": {},
     "output_type": "execute_result"
    }
   ],
   "source": [
    "fifa21_data.columns"
   ]
  },
  {
   "cell_type": "code",
   "execution_count": 160,
   "id": "e4efd047",
   "metadata": {},
   "outputs": [
    {
     "data": {
      "text/plain": [
       "True"
      ]
     },
     "execution_count": 160,
     "metadata": {},
     "output_type": "execute_result"
    }
   ],
   "source": [
    "'wage_eur' in fifa21_data.columns"
   ]
  },
  {
   "cell_type": "code",
   "execution_count": 161,
   "id": "95a9481d",
   "metadata": {},
   "outputs": [
    {
     "data": {
      "text/plain": [
       "0        560000\n",
       "1        220000\n",
       "2        125000\n",
       "3        240000\n",
       "4        270000\n",
       "          ...  \n",
       "18939       500\n",
       "18940      1000\n",
       "18941      1000\n",
       "18942      1000\n",
       "18943      2000\n",
       "Name: wage_eur, Length: 18944, dtype: int64"
      ]
     },
     "execution_count": 161,
     "metadata": {},
     "output_type": "execute_result"
    }
   ],
   "source": [
    "fifa21_data['wage_eur']"
   ]
  },
  {
   "cell_type": "code",
   "execution_count": 164,
   "id": "9d22cf24",
   "metadata": {},
   "outputs": [
    {
     "name": "stdout",
     "output_type": "stream",
     "text": [
      "Correlation between overall rating and wage: 0.57\n"
     ]
    },
    {
     "data": {
      "image/png": "[encoded data removed]",
      "text/plain": [
       "<Figure size 576x432 with 1 Axes>"
      ]
     },
     "metadata": {
      "needs_background": "light"
     },
     "output_type": "display_data"
    }
   ],
   "source": [
    "plt.figure(figsize=(8, 6))\n",
    "sns.regplot(data=fifa21_data, x='overall',\n",
    "            y=fifa21_data['wage_eur'],\n",
    "            scatter_kws={'alpha': 0.3}, line_kws={'color': 'red'})\n",
    "plt.title('Relationship between Player Overall Rating and Wage', fontsize=16)\n",
    "plt.xlabel('Overall Rating')\n",
    "plt.ylabel('Wage (€)')\n",
    "plt.ylim(0, fifa21_data['wage_eur'].quantile(0.95))  # Limit the outliers\n",
    "\n",
    "# Correlation coefficient\n",
    "\n",
    "correlation = fifa21_data['overall'].corr(fifa21_data['wage_eur'])\n",
    "print(f\"Correlation between overall rating and wage: {correlation:.2f}\")"
   ]
  },
  {
   "cell_type": "code",
   "execution_count": null,
   "id": "e26e325c",
   "metadata": {},
   "outputs": [],
   "source": []
  },
  {
   "cell_type": "markdown",
   "id": "08f31a29",
   "metadata": {},
   "source": [
    "7. Which young players (under 21) have the highest potential?"
   ]
  },
  {
   "cell_type": "code",
   "execution_count": null,
   "id": "4889a214",
   "metadata": {},
   "outputs": [
    {
     "data": {
      "text/html": [
       "<div>\n",
       "<style scoped>\n",
       "    .dataframe tbody tr th:only-of-type {\n",
       "        vertical-align: middle;\n",
       "    }\n",
       "\n",
       "    .dataframe tbody tr th {\n",
       "        vertical-align: top;\n",
       "    }\n",
       "\n",
       "    .dataframe thead th {\n",
       "        text-align: right;\n",
       "    }\n",
       "</style>\n",
       "<table border=\"1\" class=\"dataframe\">\n",
       "  <thead>\n",
       "    <tr style=\"text-align: right;\">\n",
       "      <th></th>\n",
       "      <th>short_name</th>\n",
       "      <th>long_name</th>\n",
       "      <th>age</th>\n",
       "      <th>club_name</th>\n",
       "      <th>nationality</th>\n",
       "      <th>potential</th>\n",
       "    </tr>\n",
       "  </thead>\n",
       "  <tbody>\n",
       "    <tr>\n",
       "      <th>28</th>\n",
       "      <td>J. Sancho</td>\n",
       "      <td>Jadon Sancho</td>\n",
       "      <td>20</td>\n",
       "      <td>Borussia Dortmund</td>\n",
       "      <td>England</td>\n",
       "      <td>93</td>\n",
       "    </tr>\n",
       "    <tr>\n",
       "      <th>272</th>\n",
       "      <td>João Félix</td>\n",
       "      <td>João Félix Sequeira</td>\n",
       "      <td>20</td>\n",
       "      <td>Atlético Madrid</td>\n",
       "      <td>Portugal</td>\n",
       "      <td>93</td>\n",
       "    </tr>\n",
       "    <tr>\n",
       "      <th>366</th>\n",
       "      <td>Vinícius Jr.</td>\n",
       "      <td>Vinícius José Paixão de Oliveira Júnior</td>\n",
       "      <td>19</td>\n",
       "      <td>Real Madrid</td>\n",
       "      <td>Brazil</td>\n",
       "      <td>93</td>\n",
       "    </tr>\n",
       "    <tr>\n",
       "      <th>99</th>\n",
       "      <td>E. Haaland</td>\n",
       "      <td>Erling Haaland</td>\n",
       "      <td>19</td>\n",
       "      <td>Borussia Dortmund</td>\n",
       "      <td>Norway</td>\n",
       "      <td>92</td>\n",
       "    </tr>\n",
       "    <tr>\n",
       "      <th>64</th>\n",
       "      <td>M. de Ligt</td>\n",
       "      <td>Matthijs de Ligt</td>\n",
       "      <td>20</td>\n",
       "      <td>Juventus</td>\n",
       "      <td>Netherlands</td>\n",
       "      <td>92</td>\n",
       "    </tr>\n",
       "    <tr>\n",
       "      <th>683</th>\n",
       "      <td>Trincão</td>\n",
       "      <td>Francisco António Machado Mota Castro Trincão</td>\n",
       "      <td>20</td>\n",
       "      <td>FC Barcelona</td>\n",
       "      <td>Portugal</td>\n",
       "      <td>91</td>\n",
       "    </tr>\n",
       "    <tr>\n",
       "      <th>898</th>\n",
       "      <td>S. Tonali</td>\n",
       "      <td>Sandro Tonali</td>\n",
       "      <td>20</td>\n",
       "      <td>Milan</td>\n",
       "      <td>Italy</td>\n",
       "      <td>91</td>\n",
       "    </tr>\n",
       "    <tr>\n",
       "      <th>504</th>\n",
       "      <td>Rodrygo</td>\n",
       "      <td>Rodrygo Silva de Goes</td>\n",
       "      <td>19</td>\n",
       "      <td>Real Madrid</td>\n",
       "      <td>Brazil</td>\n",
       "      <td>90</td>\n",
       "    </tr>\n",
       "    <tr>\n",
       "      <th>1177</th>\n",
       "      <td>Ansu Fati</td>\n",
       "      <td>Anssumane Fati</td>\n",
       "      <td>17</td>\n",
       "      <td>FC Barcelona</td>\n",
       "      <td>Spain</td>\n",
       "      <td>90</td>\n",
       "    </tr>\n",
       "    <tr>\n",
       "      <th>2488</th>\n",
       "      <td>T. Almada</td>\n",
       "      <td>Thiago Ezequiel Almada</td>\n",
       "      <td>19</td>\n",
       "      <td>Vélez Sarsfield</td>\n",
       "      <td>Argentina</td>\n",
       "      <td>89</td>\n",
       "    </tr>\n",
       "  </tbody>\n",
       "</table>\n",
       "</div>"
      ],
      "text/plain": [
       "        short_name                                      long_name  age  \\\n",
       "28       J. Sancho                                   Jadon Sancho   20   \n",
       "272     João Félix                            João Félix Sequeira   20   \n",
       "366   Vinícius Jr.        Vinícius José Paixão de Oliveira Júnior   19   \n",
       "99      E. Haaland                                 Erling Haaland   19   \n",
       "64      M. de Ligt                               Matthijs de Ligt   20   \n",
       "683        Trincão  Francisco António Machado Mota Castro Trincão   20   \n",
       "898      S. Tonali                                  Sandro Tonali   20   \n",
       "504        Rodrygo                          Rodrygo Silva de Goes   19   \n",
       "1177     Ansu Fati                                 Anssumane Fati   17   \n",
       "2488     T. Almada                         Thiago Ezequiel Almada   19   \n",
       "\n",
       "              club_name  nationality  potential  \n",
       "28    Borussia Dortmund      England         93  \n",
       "272     Atlético Madrid     Portugal         93  \n",
       "366         Real Madrid       Brazil         93  \n",
       "99    Borussia Dortmund       Norway         92  \n",
       "64             Juventus  Netherlands         92  \n",
       "683        FC Barcelona     Portugal         91  \n",
       "898               Milan        Italy         91  \n",
       "504         Real Madrid       Brazil         90  \n",
       "1177       FC Barcelona        Spain         90  \n",
       "2488    Vélez Sarsfield    Argentina         89  "
      ]
     },
     "execution_count": 170,
     "metadata": {},
     "output_type": "execute_result"
    }
   ],
   "source": [
    "potential = fifa21_data['potential']\n",
    "potential.head(5)\n",
    "\n",
    "younger_players = fifa21_data[fifa21_data['age'] < 21]\n",
    "younger_players.head(3)\n",
    "\n",
    "# Sort by potential\n",
    "\n",
    "top_younger_players = younger_players[\n",
    "    ['short_name', 'long_name', 'age', 'club_name', 'nationality', 'potential']\n",
    "    ].sort_values(\n",
    "    by='potential', ascending=False).head(10)\n",
    "\n",
    "top_younger_players"
   ]
  },
  {
   "cell_type": "markdown",
   "id": "e3e052d1",
   "metadata": {},
   "source": [
    "8. Plot the top 5 countries with the most players."
   ]
  },
  {
   "cell_type": "code",
   "execution_count": 172,
   "id": "7457cc77",
   "metadata": {},
   "outputs": [
    {
     "data": {
      "image/png": "[encoded data removed]",
      "text/plain": [
       "<Figure size 720x432 with 1 Axes>"
      ]
     },
     "metadata": {
      "needs_background": "light"
     },
     "output_type": "display_data"
    }
   ],
   "source": [
    "countries = fifa21_data['nationality'].value_counts().head(10)\n",
    "\n",
    "\n",
    "# Plot\n",
    "\n",
    "plt.figure(figsize=(10, 6))\n",
    "countries.plot(kind='bar', color='green', edgecolor='black')\n",
    "\n",
    "plt.title('Top 5 Countries with Most Players in Fifa')\n",
    "plt.ylabel('Number of Players')\n",
    "plt.xlabel('Country')\n",
    "plt.show()"
   ]
  },
  {
   "cell_type": "code",
   "execution_count": 173,
   "id": "84848221",
   "metadata": {},
   "outputs": [
    {
     "name": "stdout",
     "output_type": "stream",
     "text": [
      "Collecting plotly\n",
      "  Downloading plotly-6.3.0-py3-none-any.whl (9.8 MB)\n",
      "\u001b[K     |████████████████████████████████| 9.8 MB 2.1 MB/s eta 0:00:01\n",
      "\u001b[?25hRequirement already satisfied: packaging in /home/dukelester/anaconda3/lib/python3.9/site-packages (from plotly) (21.0)\n",
      "Collecting narwhals>=1.15.1\n",
      "  Downloading narwhals-2.5.0-py3-none-any.whl (407 kB)\n",
      "\u001b[K     |████████████████████████████████| 407 kB 2.2 MB/s eta 0:00:01\n",
      "\u001b[?25hRequirement already satisfied: pyparsing>=2.0.2 in /home/dukelester/anaconda3/lib/python3.9/site-packages (from packaging->plotly) (3.0.4)\n",
      "Installing collected packages: narwhals, plotly\n",
      "Successfully installed narwhals-2.5.0 plotly-6.3.0\n"
     ]
    }
   ],
   "source": [
    "!pip install plotly"
   ]
  },
  {
   "cell_type": "code",
   "execution_count": 174,
   "id": "33f45ae1",
   "metadata": {},
   "outputs": [
    {
     "name": "stderr",
     "output_type": "stream",
     "text": [
      "/tmp/ipykernel_1473733/779261558.py:10: DeprecationWarning:\n",
      "\n",
      "The library used by the *country names* `locationmode` option is changing in an upcoming version. Country names in existing plots may not work in the new version. To ensure consistent behavior, consider setting `locationmode` to *ISO-3*.\n",
      "\n"
     ]
    },
    {
     "data": {
      "application/vnd.plotly.v1+json": {
       "config": {
        "plotlyServerURL": "https://plot.ly"
       },
       "data": [
        {
         "coloraxis": "coloraxis",
         "geo": "geo",
         "hovertemplate": "<b>%{hovertext}</b><br><br>country=%{location}<br>number_of_payers=%{z}<extra></extra>",
         "hovertext": [
          "England",
          "Germany",
          "Spain",
          "France",
          "Argentina",
          "Brazil",
          "Japan",
          "Netherlands",
          "Italy",
          "United States",
          "Sweden",
          "China PR",
          "Norway",
          "Mexico",
          "Poland",
          "Portugal",
          "Uruguay",
          "Turkey",
          "Korea Republic",
          "Colombia",
          "Republic of Ireland",
          "Romania",
          "Austria",
          "Saudi Arabia",
          "Denmark",
          "Belgium",
          "Scotland",
          "Ecuador",
          "Australia",
          "Paraguay",
          "Switzerland",
          "Venezuela",
          "Chile",
          "Peru",
          "Bolivia",
          "Croatia",
          "Serbia",
          "Senegal",
          "Nigeria",
          "Wales",
          "Ghana",
          "Czech Republic",
          "Ivory Coast",
          "Greece",
          "Northern Ireland",
          "Morocco",
          "Canada",
          "Russia",
          "Cameroon",
          "South Africa",
          "Slovakia",
          "Bosnia Herzegovina",
          "DR Congo",
          "Finland",
          "Ukraine",
          "Iceland",
          "Slovenia",
          "Algeria",
          "Mali",
          "Albania",
          "Kosovo",
          "New Zealand",
          "Hungary",
          "Bulgaria",
          "Tunisia",
          "Guinea",
          "Montenegro",
          "Egypt",
          "Costa Rica",
          "North Macedonia",
          "Jamaica",
          "Gambia",
          "India",
          "Cape Verde",
          "United Arab Emirates",
          "Georgia",
          "Israel",
          "Burkina Faso",
          "Angola",
          "Gabon",
          "Honduras",
          "Congo",
          "Iran",
          "Guinea Bissau",
          "Togo",
          "Curacao",
          "Moldova",
          "Comoros",
          "Zimbabwe",
          "Panama",
          "Luxembourg",
          "Zambia",
          "Benin",
          "Haiti",
          "Kenya",
          "Lithuania",
          "Guyana",
          "Uganda",
          "Madagascar",
          "Sierra Leone",
          "Latvia",
          "Cyprus",
          "Mauritania",
          "Burundi",
          "Uzbekistan",
          "Kazakhstan",
          "Trinidad & Tobago",
          "Azerbaijan",
          "Equatorial Guinea",
          "Cuba",
          "Mozambique",
          "Faroe Islands",
          "Liechtenstein",
          "Estonia",
          "Grenada",
          "Dominican Republic",
          "Syria",
          "El Salvador",
          "Iraq",
          "Armenia",
          "Central African Republic",
          "Niger",
          "Liberia",
          "Thailand",
          "Antigua & Barbuda",
          "Libya",
          "Sudan",
          "Montserrat",
          "Philippines",
          "Lebanon",
          "Belarus",
          "Namibia",
          "Ethiopia",
          "South Sudan",
          "Belize",
          "Jordan",
          "Hong Kong",
          "Palestine",
          "Saint Kitts and Nevis",
          "Eritrea",
          "Afghanistan",
          "Chinese Taipei",
          "Malta",
          "Indonesia",
          "Malaysia",
          "Bermuda",
          "Korea DPR",
          "Macau",
          "New Caledonia",
          "Barbados",
          "Andorra",
          "Guam",
          "Puerto Rico",
          "Rwanda",
          "São Tomé & Príncipe",
          "Malawi",
          "Tanzania",
          "Saint Lucia",
          "Papua New Guinea",
          "Aruba",
          "Chad",
          "Nicaragua"
         ],
         "locationmode": "country names",
         "locations": [
          "England",
          "Germany",
          "Spain",
          "France",
          "Argentina",
          "Brazil",
          "Japan",
          "Netherlands",
          "Italy",
          "United States",
          "Sweden",
          "China PR",
          "Norway",
          "Mexico",
          "Poland",
          "Portugal",
          "Uruguay",
          "Turkey",
          "Korea Republic",
          "Colombia",
          "Republic of Ireland",
          "Romania",
          "Austria",
          "Saudi Arabia",
          "Denmark",
          "Belgium",
          "Scotland",
          "Ecuador",
          "Australia",
          "Paraguay",
          "Switzerland",
          "Venezuela",
          "Chile",
          "Peru",
          "Bolivia",
          "Croatia",
          "Serbia",
          "Senegal",
          "Nigeria",
          "Wales",
          "Ghana",
          "Czech Republic",
          "Ivory Coast",
          "Greece",
          "Northern Ireland",
          "Morocco",
          "Canada",
          "Russia",
          "Cameroon",
          "South Africa",
          "Slovakia",
          "Bosnia Herzegovina",
          "DR Congo",
          "Finland",
          "Ukraine",
          "Iceland",
          "Slovenia",
          "Algeria",
          "Mali",
          "Albania",
          "Kosovo",
          "New Zealand",
          "Hungary",
          "Bulgaria",
          "Tunisia",
          "Guinea",
          "Montenegro",
          "Egypt",
          "Costa Rica",
          "North Macedonia",
          "Jamaica",
          "Gambia",
          "India",
          "Cape Verde",
          "United Arab Emirates",
          "Georgia",
          "Israel",
          "Burkina Faso",
          "Angola",
          "Gabon",
          "Honduras",
          "Congo",
          "Iran",
          "Guinea Bissau",
          "Togo",
          "Curacao",
          "Moldova",
          "Comoros",
          "Zimbabwe",
          "Panama",
          "Luxembourg",
          "Zambia",
          "Benin",
          "Haiti",
          "Kenya",
          "Lithuania",
          "Guyana",
          "Uganda",
          "Madagascar",
          "Sierra Leone",
          "Latvia",
          "Cyprus",
          "Mauritania",
          "Burundi",
          "Uzbekistan",
          "Kazakhstan",
          "Trinidad & Tobago",
          "Azerbaijan",
          "Equatorial Guinea",
          "Cuba",
          "Mozambique",
          "Faroe Islands",
          "Liechtenstein",
          "Estonia",
          "Grenada",
          "Dominican Republic",
          "Syria",
          "El Salvador",
          "Iraq",
          "Armenia",
          "Central African Republic",
          "Niger",
          "Liberia",
          "Thailand",
          "Antigua & Barbuda",
          "Libya",
          "Sudan",
          "Montserrat",
          "Philippines",
          "Lebanon",
          "Belarus",
          "Namibia",
          "Ethiopia",
          "South Sudan",
          "Belize",
          "Jordan",
          "Hong Kong",
          "Palestine",
          "Saint Kitts and Nevis",
          "Eritrea",
          "Afghanistan",
          "Chinese Taipei",
          "Malta",
          "Indonesia",
          "Malaysia",
          "Bermuda",
          "Korea DPR",
          "Macau",
          "New Caledonia",
          "Barbados",
          "Andorra",
          "Guam",
          "Puerto Rico",
          "Rwanda",
          "São Tomé & Príncipe",
          "Malawi",
          "Tanzania",
          "Saint Lucia",
          "Papua New Guinea",
          "Aruba",
          "Chad",
          "Nicaragua"
         ],
         "name": "",
         "type": "choropleth",
         "z": {
          "bdata": "lQalBDAE2AOoA3cD6QGwAaUBegF0AWwBawFqAWgBYQFdAVgBVQFSAVIBRAFBAT0BLAEqAR8B/ADxAOsA0wDGAL8AoQCSAIQAggCAAH4AfAB2AG8AaQBnAFAAUABOAE0ATQBIAEQAQgBBAEEAQQA2ADQANAAyADEALgAsACcAJgAhAB4AHgAdAB0AGgAYABgAFwAXABYAFgATABMAEAAQABAAEAAPAA8ADgANAAwADAALAAsACwALAAsACgAKAAoACgAJAAkACQAHAAcABwAHAAcABgAGAAYABgAFAAUABQAFAAUABAAEAAQABAAEAAQABAAEAAQABAAEAAQABAADAAMAAwADAAMAAgACAAIAAgACAAIAAgACAAIAAgABAAEAAQABAAEAAQABAAEAAQABAAEAAQABAAEAAQABAAEAAQABAAEA",
          "dtype": "i2"
         }
        }
       ],
       "layout": {
        "coloraxis": {
         "colorbar": {
          "title": {
           "text": "number_of_payers"
          }
         },
         "colorscale": [
          [
           0,
           "#440154"
          ],
          [
           0.1111111111111111,
           "#482878"
          ],
          [
           0.2222222222222222,
           "#3e4989"
          ],
          [
           0.3333333333333333,
           "#31688e"
          ],
          [
           0.4444444444444444,
           "#26828e"
          ],
          [
           0.5555555555555556,
           "#1f9e89"
          ],
          [
           0.6666666666666666,
           "#35b779"
          ],
          [
           0.7777777777777778,
           "#6ece58"
          ],
          [
           0.8888888888888888,
           "#b5de2b"
          ],
          [
           1,
           "#fde725"
          ]
         ]
        },
        "geo": {
         "center": {},
         "domain": {
          "x": [
           0,
           1
          ],
          "y": [
           0,
           1
          ]
         }
        },
        "legend": {
         "tracegroupgap": 0
        },
        "template": {
         "data": {
          "bar": [
           {
            "error_x": {
             "color": "#2a3f5f"
            },
            "error_y": {
             "color": "#2a3f5f"
            },
            "marker": {
             "line": {
              "color": "#E5ECF6",
              "width": 0.5
             },
             "pattern": {
              "fillmode": "overlay",
              "size": 10,
              "solidity": 0.2
             }
            },
            "type": "bar"
           }
          ],
          "barpolar": [
           {
            "marker": {
             "line": {
              "color": "#E5ECF6",
              "width": 0.5
             },
             "pattern": {
              "fillmode": "overlay",
              "size": 10,
              "solidity": 0.2
             }
            },
            "type": "barpolar"
           }
          ],
          "carpet": [
           {
            "aaxis": {
             "endlinecolor": "#2a3f5f",
             "gridcolor": "white",
             "linecolor": "white",
             "minorgridcolor": "white",
             "startlinecolor": "#2a3f5f"
            },
            "baxis": {
             "endlinecolor": "#2a3f5f",
             "gridcolor": "white",
             "linecolor": "white",
             "minorgridcolor": "white",
             "startlinecolor": "#2a3f5f"
            },
            "type": "carpet"
           }
          ],
          "choropleth": [
           {
            "colorbar": {
             "outlinewidth": 0,
             "ticks": ""
            },
            "type": "choropleth"
           }
          ],
          "contour": [
           {
            "colorbar": {
             "outlinewidth": 0,
             "ticks": ""
            },
            "colorscale": [
             [
              0,
              "#0d0887"
             ],
             [
              0.1111111111111111,
              "#46039f"
             ],
             [
              0.2222222222222222,
              "#7201a8"
             ],
             [
              0.3333333333333333,
              "#9c179e"
             ],
             [
              0.4444444444444444,
              "#bd3786"
             ],
             [
              0.5555555555555556,
              "#d8576b"
             ],
             [
              0.6666666666666666,
              "#ed7953"
             ],
             [
              0.7777777777777778,
              "#fb9f3a"
             ],
             [
              0.8888888888888888,
              "#fdca26"
             ],
             [
              1,
              "#f0f921"
             ]
            ],
            "type": "contour"
           }
          ],
          "contourcarpet": [
           {
            "colorbar": {
             "outlinewidth": 0,
             "ticks": ""
            },
            "type": "contourcarpet"
           }
          ],
          "heatmap": [
           {
            "colorbar": {
             "outlinewidth": 0,
             "ticks": ""
            },
            "colorscale": [
             [
              0,
              "#0d0887"
             ],
             [
              0.1111111111111111,
              "#46039f"
             ],
             [
              0.2222222222222222,
              "#7201a8"
             ],
             [
              0.3333333333333333,
              "#9c179e"
             ],
             [
              0.4444444444444444,
              "#bd3786"
             ],
             [
              0.5555555555555556,
              "#d8576b"
             ],
             [
              0.6666666666666666,
              "#ed7953"
             ],
             [
              0.7777777777777778,
              "#fb9f3a"
             ],
             [
              0.8888888888888888,
              "#fdca26"
             ],
             [
              1,
              "#f0f921"
             ]
            ],
            "type": "heatmap"
           }
          ],
          "histogram": [
           {
            "marker": {
             "pattern": {
              "fillmode": "overlay",
              "size": 10,
              "solidity": 0.2
             }
            },
            "type": "histogram"
           }
          ],
          "histogram2d": [
           {
            "colorbar": {
             "outlinewidth": 0,
             "ticks": ""
            },
            "colorscale": [
             [
              0,
              "#0d0887"
             ],
             [
              0.1111111111111111,
              "#46039f"
             ],
             [
              0.2222222222222222,
              "#7201a8"
             ],
             [
              0.3333333333333333,
              "#9c179e"
             ],
             [
              0.4444444444444444,
              "#bd3786"
             ],
             [
              0.5555555555555556,
              "#d8576b"
             ],
             [
              0.6666666666666666,
              "#ed7953"
             ],
             [
              0.7777777777777778,
              "#fb9f3a"
             ],
             [
              0.8888888888888888,
              "#fdca26"
             ],
             [
              1,
              "#f0f921"
             ]
            ],
            "type": "histogram2d"
           }
          ],
          "histogram2dcontour": [
           {
            "colorbar": {
             "outlinewidth": 0,
             "ticks": ""
            },
            "colorscale": [
             [
              0,
              "#0d0887"
             ],
             [
              0.1111111111111111,
              "#46039f"
             ],
             [
              0.2222222222222222,
              "#7201a8"
             ],
             [
              0.3333333333333333,
              "#9c179e"
             ],
             [
              0.4444444444444444,
              "#bd3786"
             ],
             [
              0.5555555555555556,
              "#d8576b"
             ],
             [
              0.6666666666666666,
              "#ed7953"
             ],
             [
              0.7777777777777778,
              "#fb9f3a"
             ],
             [
              0.8888888888888888,
              "#fdca26"
             ],
             [
              1,
              "#f0f921"
             ]
            ],
            "type": "histogram2dcontour"
           }
          ],
          "mesh3d": [
           {
            "colorbar": {
             "outlinewidth": 0,
             "ticks": ""
            },
            "type": "mesh3d"
           }
          ],
          "parcoords": [
           {
            "line": {
             "colorbar": {
              "outlinewidth": 0,
              "ticks": ""
             }
            },
            "type": "parcoords"
           }
          ],
          "pie": [
           {
            "automargin": true,
            "type": "pie"
           }
          ],
          "scatter": [
           {
            "fillpattern": {
             "fillmode": "overlay",
             "size": 10,
             "solidity": 0.2
            },
            "type": "scatter"
           }
          ],
          "scatter3d": [
           {
            "line": {
             "colorbar": {
              "outlinewidth": 0,
              "ticks": ""
             }
            },
            "marker": {
             "colorbar": {
              "outlinewidth": 0,
              "ticks": ""
             }
            },
            "type": "scatter3d"
           }
          ],
          "scattercarpet": [
           {
            "marker": {
             "colorbar": {
              "outlinewidth": 0,
              "ticks": ""
             }
            },
            "type": "scattercarpet"
           }
          ],
          "scattergeo": [
           {
            "marker": {
             "colorbar": {
              "outlinewidth": 0,
              "ticks": ""
             }
            },
            "type": "scattergeo"
           }
          ],
          "scattergl": [
           {
            "marker": {
             "colorbar": {
              "outlinewidth": 0,
              "ticks": ""
             }
            },
            "type": "scattergl"
           }
          ],
          "scattermap": [
           {
            "marker": {
             "colorbar": {
              "outlinewidth": 0,
              "ticks": ""
             }
            },
            "type": "scattermap"
           }
          ],
          "scattermapbox": [
           {
            "marker": {
             "colorbar": {
              "outlinewidth": 0,
              "ticks": ""
             }
            },
            "type": "scattermapbox"
           }
          ],
          "scatterpolar": [
           {
            "marker": {
             "colorbar": {
              "outlinewidth": 0,
              "ticks": ""
             }
            },
            "type": "scatterpolar"
           }
          ],
          "scatterpolargl": [
           {
            "marker": {
             "colorbar": {
              "outlinewidth": 0,
              "ticks": ""
             }
            },
            "type": "scatterpolargl"
           }
          ],
          "scatterternary": [
           {
            "marker": {
             "colorbar": {
              "outlinewidth": 0,
              "ticks": ""
             }
            },
            "type": "scatterternary"
           }
          ],
          "surface": [
           {
            "colorbar": {
             "outlinewidth": 0,
             "ticks": ""
            },
            "colorscale": [
             [
              0,
              "#0d0887"
             ],
             [
              0.1111111111111111,
              "#46039f"
             ],
             [
              0.2222222222222222,
              "#7201a8"
             ],
             [
              0.3333333333333333,
              "#9c179e"
             ],
             [
              0.4444444444444444,
              "#bd3786"
             ],
             [
              0.5555555555555556,
              "#d8576b"
             ],
             [
              0.6666666666666666,
              "#ed7953"
             ],
             [
              0.7777777777777778,
              "#fb9f3a"
             ],
             [
              0.8888888888888888,
              "#fdca26"
             ],
             [
              1,
              "#f0f921"
             ]
            ],
            "type": "surface"
           }
          ],
          "table": [
           {
            "cells": {
             "fill": {
              "color": "#EBF0F8"
             },
             "line": {
              "color": "white"
             }
            },
            "header": {
             "fill": {
              "color": "#C8D4E3"
             },
             "line": {
              "color": "white"
             }
            },
            "type": "table"
           }
          ]
         },
         "layout": {
          "annotationdefaults": {
           "arrowcolor": "#2a3f5f",
           "arrowhead": 0,
           "arrowwidth": 1
          },
          "autotypenumbers": "strict",
          "coloraxis": {
           "colorbar": {
            "outlinewidth": 0,
            "ticks": ""
           }
          },
          "colorscale": {
           "diverging": [
            [
             0,
             "#8e0152"
            ],
            [
             0.1,
             "#c51b7d"
            ],
            [
             0.2,
             "#de77ae"
            ],
            [
             0.3,
             "#f1b6da"
            ],
            [
             0.4,
             "#fde0ef"
            ],
            [
             0.5,
             "#f7f7f7"
            ],
            [
             0.6,
             "#e6f5d0"
            ],
            [
             0.7,
             "#b8e186"
            ],
            [
             0.8,
             "#7fbc41"
            ],
            [
             0.9,
             "#4d9221"
            ],
            [
             1,
             "#276419"
            ]
           ],
           "sequential": [
            [
             0,
             "#0d0887"
            ],
            [
             0.1111111111111111,
             "#46039f"
            ],
            [
             0.2222222222222222,
             "#7201a8"
            ],
            [
             0.3333333333333333,
             "#9c179e"
            ],
            [
             0.4444444444444444,
             "#bd3786"
            ],
            [
             0.5555555555555556,
             "#d8576b"
            ],
            [
             0.6666666666666666,
             "#ed7953"
            ],
            [
             0.7777777777777778,
             "#fb9f3a"
            ],
            [
             0.8888888888888888,
             "#fdca26"
            ],
            [
             1,
             "#f0f921"
            ]
           ],
           "sequentialminus": [
            [
             0,
             "#0d0887"
            ],
            [
             0.1111111111111111,
             "#46039f"
            ],
            [
             0.2222222222222222,
             "#7201a8"
            ],
            [
             0.3333333333333333,
             "#9c179e"
            ],
            [
             0.4444444444444444,
             "#bd3786"
            ],
            [
             0.5555555555555556,
             "#d8576b"
            ],
            [
             0.6666666666666666,
             "#ed7953"
            ],
            [
             0.7777777777777778,
             "#fb9f3a"
            ],
            [
             0.8888888888888888,
             "#fdca26"
            ],
            [
             1,
             "#f0f921"
            ]
           ]
          },
          "colorway": [
           "#636efa",
           "#EF553B",
           "#00cc96",
           "#ab63fa",
           "#FFA15A",
           "#19d3f3",
           "#FF6692",
           "#B6E880",
           "#FF97FF",
           "#FECB52"
          ],
          "font": {
           "color": "#2a3f5f"
          },
          "geo": {
           "bgcolor": "white",
           "lakecolor": "white",
           "landcolor": "#E5ECF6",
           "showlakes": true,
           "showland": true,
           "subunitcolor": "white"
          },
          "hoverlabel": {
           "align": "left"
          },
          "hovermode": "closest",
          "mapbox": {
           "style": "light"
          },
          "paper_bgcolor": "white",
          "plot_bgcolor": "#E5ECF6",
          "polar": {
           "angularaxis": {
            "gridcolor": "white",
            "linecolor": "white",
            "ticks": ""
           },
           "bgcolor": "#E5ECF6",
           "radialaxis": {
            "gridcolor": "white",
            "linecolor": "white",
            "ticks": ""
           }
          },
          "scene": {
           "xaxis": {
            "backgroundcolor": "#E5ECF6",
            "gridcolor": "white",
            "gridwidth": 2,
            "linecolor": "white",
            "showbackground": true,
            "ticks": "",
            "zerolinecolor": "white"
           },
           "yaxis": {
            "backgroundcolor": "#E5ECF6",
            "gridcolor": "white",
            "gridwidth": 2,
            "linecolor": "white",
            "showbackground": true,
            "ticks": "",
            "zerolinecolor": "white"
           },
           "zaxis": {
            "backgroundcolor": "#E5ECF6",
            "gridcolor": "white",
            "gridwidth": 2,
            "linecolor": "white",
            "showbackground": true,
            "ticks": "",
            "zerolinecolor": "white"
           }
          },
          "shapedefaults": {
           "line": {
            "color": "#2a3f5f"
           }
          },
          "ternary": {
           "aaxis": {
            "gridcolor": "white",
            "linecolor": "white",
            "ticks": ""
           },
           "baxis": {
            "gridcolor": "white",
            "linecolor": "white",
            "ticks": ""
           },
           "bgcolor": "#E5ECF6",
           "caxis": {
            "gridcolor": "white",
            "linecolor": "white",
            "ticks": ""
           }
          },
          "title": {
           "x": 0.05
          },
          "xaxis": {
           "automargin": true,
           "gridcolor": "white",
           "linecolor": "white",
           "ticks": "",
           "title": {
            "standoff": 15
           },
           "zerolinecolor": "white",
           "zerolinewidth": 2
          },
          "yaxis": {
           "automargin": true,
           "gridcolor": "white",
           "linecolor": "white",
           "ticks": "",
           "title": {
            "standoff": 15
           },
           "zerolinecolor": "white",
           "zerolinewidth": 2
          }
         }
        },
        "title": {
         "text": "FIFA Players by Country"
        }
       }
      }
     },
     "metadata": {},
     "output_type": "display_data"
    }
   ],
   "source": [
    "import plotly.express as px\n",
    "\n",
    "# Count number of players per country\n",
    "\n",
    "country_counts = fifa21_data['nationality'].value_counts().reset_index()\n",
    "country_counts.columns = ['country', 'number_of_payers']\n",
    "\n",
    "# Plot a world map\n",
    "\n",
    "fig = px.choropleth(\n",
    "    country_counts, locations='country', locationmode='country names', color='number_of_payers',\n",
    "    hover_name='country', color_continuous_scale='Viridis', title='FIFA Players by Country'\n",
    ")\n",
    "\n",
    "fig.show()"
   ]
  },
  {
   "cell_type": "code",
   "execution_count": 175,
   "id": "fa75596b",
   "metadata": {},
   "outputs": [
    {
     "data": {
      "text/html": [
       "<div>\n",
       "<style scoped>\n",
       "    .dataframe tbody tr th:only-of-type {\n",
       "        vertical-align: middle;\n",
       "    }\n",
       "\n",
       "    .dataframe tbody tr th {\n",
       "        vertical-align: top;\n",
       "    }\n",
       "\n",
       "    .dataframe thead th {\n",
       "        text-align: right;\n",
       "    }\n",
       "</style>\n",
       "<table border=\"1\" class=\"dataframe\">\n",
       "  <thead>\n",
       "    <tr style=\"text-align: right;\">\n",
       "      <th></th>\n",
       "      <th>Unnamed: 0</th>\n",
       "      <th>sofifa_id</th>\n",
       "      <th>player_url</th>\n",
       "      <th>short_name</th>\n",
       "      <th>long_name</th>\n",
       "      <th>age</th>\n",
       "      <th>dob</th>\n",
       "      <th>height_cm</th>\n",
       "      <th>weight_kg</th>\n",
       "      <th>nationality</th>\n",
       "      <th>...</th>\n",
       "      <th>ldm</th>\n",
       "      <th>cdm</th>\n",
       "      <th>rdm</th>\n",
       "      <th>rwb</th>\n",
       "      <th>lb</th>\n",
       "      <th>lcb</th>\n",
       "      <th>cb</th>\n",
       "      <th>rcb</th>\n",
       "      <th>rb</th>\n",
       "      <th>value_num</th>\n",
       "    </tr>\n",
       "  </thead>\n",
       "  <tbody>\n",
       "    <tr>\n",
       "      <th>1402</th>\n",
       "      <td>1402</td>\n",
       "      <td>188942</td>\n",
       "      <td>https://sofifa.com/player/188942/victor-wanyam...</td>\n",
       "      <td>V. Wanyama</td>\n",
       "      <td>Victor Wanyama</td>\n",
       "      <td>29</td>\n",
       "      <td>1991-06-25</td>\n",
       "      <td>184</td>\n",
       "      <td>87</td>\n",
       "      <td>Kenya</td>\n",
       "      <td>...</td>\n",
       "      <td>75+1</td>\n",
       "      <td>75+1</td>\n",
       "      <td>75+1</td>\n",
       "      <td>70+2</td>\n",
       "      <td>70+2</td>\n",
       "      <td>78+</td>\n",
       "      <td>78+</td>\n",
       "      <td>78+</td>\n",
       "      <td>70+2</td>\n",
       "      <td>0.0</td>\n",
       "    </tr>\n",
       "    <tr>\n",
       "      <th>2210</th>\n",
       "      <td>2210</td>\n",
       "      <td>233119</td>\n",
       "      <td>https://sofifa.com/player/233119/michael-olung...</td>\n",
       "      <td>M. Olunga</td>\n",
       "      <td>Michael Olunga Ogada</td>\n",
       "      <td>26</td>\n",
       "      <td>1994-03-26</td>\n",
       "      <td>193</td>\n",
       "      <td>85</td>\n",
       "      <td>Kenya</td>\n",
       "      <td>...</td>\n",
       "      <td>47+2</td>\n",
       "      <td>47+2</td>\n",
       "      <td>47+2</td>\n",
       "      <td>47+2</td>\n",
       "      <td>45+2</td>\n",
       "      <td>47+2</td>\n",
       "      <td>47+2</td>\n",
       "      <td>47+2</td>\n",
       "      <td>45+2</td>\n",
       "      <td>0.0</td>\n",
       "    </tr>\n",
       "    <tr>\n",
       "      <th>6516</th>\n",
       "      <td>6516</td>\n",
       "      <td>253073</td>\n",
       "      <td>https://sofifa.com/player/253073/joseph-okumu/...</td>\n",
       "      <td>J. Okumu</td>\n",
       "      <td>Joseph Okumu</td>\n",
       "      <td>23</td>\n",
       "      <td>1997-05-26</td>\n",
       "      <td>193</td>\n",
       "      <td>75</td>\n",
       "      <td>Kenya</td>\n",
       "      <td>...</td>\n",
       "      <td>66+2</td>\n",
       "      <td>66+2</td>\n",
       "      <td>66+2</td>\n",
       "      <td>64+2</td>\n",
       "      <td>65+2</td>\n",
       "      <td>68+2</td>\n",
       "      <td>68+2</td>\n",
       "      <td>68+2</td>\n",
       "      <td>65+2</td>\n",
       "      <td>0.0</td>\n",
       "    </tr>\n",
       "    <tr>\n",
       "      <th>10526</th>\n",
       "      <td>10526</td>\n",
       "      <td>205609</td>\n",
       "      <td>https://sofifa.com/player/205609/johanna-omolo...</td>\n",
       "      <td>J. Omolo</td>\n",
       "      <td>Johanna Ochieng Omolo</td>\n",
       "      <td>30</td>\n",
       "      <td>1989-07-31</td>\n",
       "      <td>179</td>\n",
       "      <td>73</td>\n",
       "      <td>Kenya</td>\n",
       "      <td>...</td>\n",
       "      <td>64+1</td>\n",
       "      <td>64+1</td>\n",
       "      <td>64+1</td>\n",
       "      <td>59+2</td>\n",
       "      <td>60+2</td>\n",
       "      <td>65+0</td>\n",
       "      <td>65+0</td>\n",
       "      <td>65+0</td>\n",
       "      <td>60+2</td>\n",
       "      <td>0.0</td>\n",
       "    </tr>\n",
       "    <tr>\n",
       "      <th>11447</th>\n",
       "      <td>11447</td>\n",
       "      <td>255254</td>\n",
       "      <td>https://sofifa.com/player/255254/teddy-akumu-a...</td>\n",
       "      <td>T. Akumu Agay</td>\n",
       "      <td>Teddy Akumu Agay</td>\n",
       "      <td>27</td>\n",
       "      <td>1992-10-20</td>\n",
       "      <td>184</td>\n",
       "      <td>80</td>\n",
       "      <td>Kenya</td>\n",
       "      <td>...</td>\n",
       "      <td>63+2</td>\n",
       "      <td>63+2</td>\n",
       "      <td>63+2</td>\n",
       "      <td>60+2</td>\n",
       "      <td>62+2</td>\n",
       "      <td>64+2</td>\n",
       "      <td>64+2</td>\n",
       "      <td>64+2</td>\n",
       "      <td>62+2</td>\n",
       "      <td>0.0</td>\n",
       "    </tr>\n",
       "    <tr>\n",
       "      <th>12055</th>\n",
       "      <td>12055</td>\n",
       "      <td>237503</td>\n",
       "      <td>https://sofifa.com/player/237503/clarke-oduor/...</td>\n",
       "      <td>C. Oduor</td>\n",
       "      <td>Clarke Oduor</td>\n",
       "      <td>21</td>\n",
       "      <td>1999-06-25</td>\n",
       "      <td>176</td>\n",
       "      <td>70</td>\n",
       "      <td>Kenya</td>\n",
       "      <td>...</td>\n",
       "      <td>59+2</td>\n",
       "      <td>59+2</td>\n",
       "      <td>59+2</td>\n",
       "      <td>61+2</td>\n",
       "      <td>61+2</td>\n",
       "      <td>58+2</td>\n",
       "      <td>58+2</td>\n",
       "      <td>58+2</td>\n",
       "      <td>61+2</td>\n",
       "      <td>0.0</td>\n",
       "    </tr>\n",
       "    <tr>\n",
       "      <th>12244</th>\n",
       "      <td>12244</td>\n",
       "      <td>242684</td>\n",
       "      <td>https://sofifa.com/player/242684/handwalla-bwa...</td>\n",
       "      <td>H. Bwana</td>\n",
       "      <td>Handwalla Bwana</td>\n",
       "      <td>23</td>\n",
       "      <td>1997-06-25</td>\n",
       "      <td>175</td>\n",
       "      <td>66</td>\n",
       "      <td>Kenya</td>\n",
       "      <td>...</td>\n",
       "      <td>47+2</td>\n",
       "      <td>47+2</td>\n",
       "      <td>47+2</td>\n",
       "      <td>51+2</td>\n",
       "      <td>48+2</td>\n",
       "      <td>42+2</td>\n",
       "      <td>42+2</td>\n",
       "      <td>42+2</td>\n",
       "      <td>48+2</td>\n",
       "      <td>0.0</td>\n",
       "    </tr>\n",
       "    <tr>\n",
       "      <th>15863</th>\n",
       "      <td>15863</td>\n",
       "      <td>233665</td>\n",
       "      <td>https://sofifa.com/player/233665/jonah-ayunga/...</td>\n",
       "      <td>J. Ayunga</td>\n",
       "      <td>Jonah Ananias Paul Ayunga</td>\n",
       "      <td>23</td>\n",
       "      <td>1997-05-24</td>\n",
       "      <td>185</td>\n",
       "      <td>78</td>\n",
       "      <td>Kenya</td>\n",
       "      <td>...</td>\n",
       "      <td>42+2</td>\n",
       "      <td>42+2</td>\n",
       "      <td>42+2</td>\n",
       "      <td>47+2</td>\n",
       "      <td>45+2</td>\n",
       "      <td>42+2</td>\n",
       "      <td>42+2</td>\n",
       "      <td>42+2</td>\n",
       "      <td>45+2</td>\n",
       "      <td>0.0</td>\n",
       "    </tr>\n",
       "    <tr>\n",
       "      <th>16469</th>\n",
       "      <td>16469</td>\n",
       "      <td>254899</td>\n",
       "      <td>https://sofifa.com/player/254899/erick-otieno/...</td>\n",
       "      <td>E. Otieno</td>\n",
       "      <td>Erick Ouma Otieno</td>\n",
       "      <td>23</td>\n",
       "      <td>1996-09-27</td>\n",
       "      <td>168</td>\n",
       "      <td>70</td>\n",
       "      <td>Kenya</td>\n",
       "      <td>...</td>\n",
       "      <td>53+2</td>\n",
       "      <td>53+2</td>\n",
       "      <td>53+2</td>\n",
       "      <td>57+2</td>\n",
       "      <td>56+2</td>\n",
       "      <td>52+2</td>\n",
       "      <td>52+2</td>\n",
       "      <td>52+2</td>\n",
       "      <td>56+2</td>\n",
       "      <td>0.0</td>\n",
       "    </tr>\n",
       "    <tr>\n",
       "      <th>17678</th>\n",
       "      <td>17678</td>\n",
       "      <td>236444</td>\n",
       "      <td>https://sofifa.com/player/236444/henry-ochieng...</td>\n",
       "      <td>H. Ochieng</td>\n",
       "      <td>Henry Oliver Ochieng</td>\n",
       "      <td>21</td>\n",
       "      <td>1998-11-11</td>\n",
       "      <td>179</td>\n",
       "      <td>67</td>\n",
       "      <td>Kenya</td>\n",
       "      <td>...</td>\n",
       "      <td>54+2</td>\n",
       "      <td>54+2</td>\n",
       "      <td>54+2</td>\n",
       "      <td>52+2</td>\n",
       "      <td>52+2</td>\n",
       "      <td>52+2</td>\n",
       "      <td>52+2</td>\n",
       "      <td>52+2</td>\n",
       "      <td>52+2</td>\n",
       "      <td>0.0</td>\n",
       "    </tr>\n",
       "  </tbody>\n",
       "</table>\n",
       "<p>10 rows × 108 columns</p>\n",
       "</div>"
      ],
      "text/plain": [
       "       Unnamed: 0  sofifa_id  \\\n",
       "1402         1402     188942   \n",
       "2210         2210     233119   \n",
       "6516         6516     253073   \n",
       "10526       10526     205609   \n",
       "11447       11447     255254   \n",
       "12055       12055     237503   \n",
       "12244       12244     242684   \n",
       "15863       15863     233665   \n",
       "16469       16469     254899   \n",
       "17678       17678     236444   \n",
       "\n",
       "                                              player_url     short_name  \\\n",
       "1402   https://sofifa.com/player/188942/victor-wanyam...     V. Wanyama   \n",
       "2210   https://sofifa.com/player/233119/michael-olung...      M. Olunga   \n",
       "6516   https://sofifa.com/player/253073/joseph-okumu/...       J. Okumu   \n",
       "10526  https://sofifa.com/player/205609/johanna-omolo...       J. Omolo   \n",
       "11447  https://sofifa.com/player/255254/teddy-akumu-a...  T. Akumu Agay   \n",
       "12055  https://sofifa.com/player/237503/clarke-oduor/...       C. Oduor   \n",
       "12244  https://sofifa.com/player/242684/handwalla-bwa...       H. Bwana   \n",
       "15863  https://sofifa.com/player/233665/jonah-ayunga/...      J. Ayunga   \n",
       "16469  https://sofifa.com/player/254899/erick-otieno/...      E. Otieno   \n",
       "17678  https://sofifa.com/player/236444/henry-ochieng...     H. Ochieng   \n",
       "\n",
       "                       long_name  age         dob  height_cm  weight_kg  \\\n",
       "1402              Victor Wanyama   29  1991-06-25        184         87   \n",
       "2210        Michael Olunga Ogada   26  1994-03-26        193         85   \n",
       "6516                Joseph Okumu   23  1997-05-26        193         75   \n",
       "10526      Johanna Ochieng Omolo   30  1989-07-31        179         73   \n",
       "11447           Teddy Akumu Agay   27  1992-10-20        184         80   \n",
       "12055               Clarke Oduor   21  1999-06-25        176         70   \n",
       "12244            Handwalla Bwana   23  1997-06-25        175         66   \n",
       "15863  Jonah Ananias Paul Ayunga   23  1997-05-24        185         78   \n",
       "16469          Erick Ouma Otieno   23  1996-09-27        168         70   \n",
       "17678       Henry Oliver Ochieng   21  1998-11-11        179         67   \n",
       "\n",
       "      nationality  ...   ldm   cdm   rdm   rwb    lb   lcb    cb   rcb    rb  \\\n",
       "1402        Kenya  ...  75+1  75+1  75+1  70+2  70+2   78+   78+   78+  70+2   \n",
       "2210        Kenya  ...  47+2  47+2  47+2  47+2  45+2  47+2  47+2  47+2  45+2   \n",
       "6516        Kenya  ...  66+2  66+2  66+2  64+2  65+2  68+2  68+2  68+2  65+2   \n",
       "10526       Kenya  ...  64+1  64+1  64+1  59+2  60+2  65+0  65+0  65+0  60+2   \n",
       "11447       Kenya  ...  63+2  63+2  63+2  60+2  62+2  64+2  64+2  64+2  62+2   \n",
       "12055       Kenya  ...  59+2  59+2  59+2  61+2  61+2  58+2  58+2  58+2  61+2   \n",
       "12244       Kenya  ...  47+2  47+2  47+2  51+2  48+2  42+2  42+2  42+2  48+2   \n",
       "15863       Kenya  ...  42+2  42+2  42+2  47+2  45+2  42+2  42+2  42+2  45+2   \n",
       "16469       Kenya  ...  53+2  53+2  53+2  57+2  56+2  52+2  52+2  52+2  56+2   \n",
       "17678       Kenya  ...  54+2  54+2  54+2  52+2  52+2  52+2  52+2  52+2  52+2   \n",
       "\n",
       "       value_num  \n",
       "1402         0.0  \n",
       "2210         0.0  \n",
       "6516         0.0  \n",
       "10526        0.0  \n",
       "11447        0.0  \n",
       "12055        0.0  \n",
       "12244        0.0  \n",
       "15863        0.0  \n",
       "16469        0.0  \n",
       "17678        0.0  \n",
       "\n",
       "[10 rows x 108 columns]"
      ]
     },
     "execution_count": 175,
     "metadata": {},
     "output_type": "execute_result"
    }
   ],
   "source": [
    "fifa21_data[fifa21_data['nationality'] == 'Kenya']"
   ]
  },
  {
   "cell_type": "code",
   "execution_count": null,
   "id": "98ff78ab",
   "metadata": {},
   "outputs": [],
   "source": []
  },
  {
   "cell_type": "markdown",
   "id": "a5c411ed",
   "metadata": {},
   "source": [
    "9. Create a scatter plot of height vs. weight for players."
   ]
  },
  {
   "cell_type": "code",
   "execution_count": 180,
   "id": "db4e6c08",
   "metadata": {},
   "outputs": [
    {
     "data": {
      "image/png": "[encoded data removed]",
      "text/plain": [
       "<Figure size 720x432 with 1 Axes>"
      ]
     },
     "metadata": {
      "needs_background": "light"
     },
     "output_type": "display_data"
    }
   ],
   "source": [
    "plt.figure(figsize=(10, 6))\n",
    "plt.scatter(fifa21_data['height_cm'], fifa21_data['weight_kg'], alpha=0.5, color='orangered', s=10)\n",
    "plt.title(\"FIFA Players: Height vs Weight\", fontsize=14)\n",
    "plt.xlabel(\"Height (cm)\")\n",
    "plt.ylabel(\"Weight (kg)\")\n",
    "plt.grid(True, linestyle=\"--\", alpha=0.5)\n"
   ]
  },
  {
   "cell_type": "code",
   "execution_count": null,
   "id": "bcf2f55d",
   "metadata": {},
   "outputs": [],
   "source": []
  }
 ],
 "metadata": {
  "kernelspec": {
   "display_name": "base",
   "language": "python",
   "name": "python3"
  },
  "language_info": {
   "codemirror_mode": {
    "name": "ipython",
    "version": 3
   },
   "file_extension": ".py",
   "mimetype": "text/x-python",
   "name": "python",
   "nbconvert_exporter": "python",
   "pygments_lexer": "ipython3",
   "version": "3.9.7"
  }
 },
 "nbformat": 4,
 "nbformat_minor": 5
}
