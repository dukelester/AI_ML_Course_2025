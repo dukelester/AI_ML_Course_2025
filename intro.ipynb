{
 "cells": [
  {
   "cell_type": "code",
   "execution_count": 1,
   "id": "c0b6bbb4-ed5f-4fce-9154-9a9d1874069e",
   "metadata": {},
   "outputs": [
    {
     "name": "stdout",
     "output_type": "stream",
     "text": [
      "Hello Duke Lester\n"
     ]
    }
   ],
   "source": [
    "print(\"Hello Duke Lester\")"
   ]
  },
  {
   "cell_type": "markdown",
   "id": "ccfa8d9e-17ae-4833-b907-e362c70c1e78",
   "metadata": {},
   "source": [
    "## Welcome back\n"
   ]
  },
  {
   "cell_type": "code",
   "execution_count": 2,
   "id": "66faeb4d-a325-4d0c-a4ec-67f1fb46f5df",
   "metadata": {},
   "outputs": [
    {
     "ename": "ModuleNotFoundError",
     "evalue": "No module named 'pandas'",
     "output_type": "error",
     "traceback": [
      "\u001b[31m---------------------------------------------------------------------------\u001b[39m",
      "\u001b[31mModuleNotFoundError\u001b[39m                       Traceback (most recent call last)",
      "\u001b[36mCell\u001b[39m\u001b[36m \u001b[39m\u001b[32mIn[2]\u001b[39m\u001b[32m, line 1\u001b[39m\n\u001b[32m----> \u001b[39m\u001b[32m1\u001b[39m \u001b[38;5;28;01mimport\u001b[39;00m\u001b[38;5;250m \u001b[39m\u001b[34;01mpandas\u001b[39;00m\u001b[38;5;250m \u001b[39m\u001b[38;5;28;01mas\u001b[39;00m\u001b[38;5;250m \u001b[39m\u001b[34;01mpd\u001b[39;00m\n",
      "\u001b[31mModuleNotFoundError\u001b[39m: No module named 'pandas'"
     ]
    }
   ],
   "source": [
    "import pandas as pd"
   ]
  },
  {
   "cell_type": "code",
   "execution_count": 3,
   "id": "2102f964-0b3f-4ae5-bd08-88e7c47006e2",
   "metadata": {},
   "outputs": [
    {
     "name": "stdout",
     "output_type": "stream",
     "text": [
      "\u001b[1;33mJupyter detected\u001b[0m\u001b[1;33m...\u001b[0m\n",
      "\u001b[1;32m2\u001b[0m\u001b[1;32m channel Terms of Service accepted\u001b[0m\n",
      "Channels:\n",
      " - defaults\n",
      "Platform: linux-64\n",
      "Collecting package metadata (repodata.json): done\n",
      "Solving environment: done\n",
      "\n",
      "## Package Plan ##\n",
      "\n",
      "  environment location: /home/dukelester/miniconda3/envs/venv\n",
      "\n",
      "  added / updated specs:\n",
      "    - pandas\n",
      "\n",
      "\n",
      "The following packages will be downloaded:\n",
      "\n",
      "    package                    |            build\n",
      "    ---------------------------|-----------------\n",
      "    intel-openmp-2025.0.0      |    h06a4308_1171        22.3 MB\n",
      "    mkl-2025.0.0               |     hacee8c2_941       127.4 MB\n",
      "    mkl-service-2.4.0          |  py313h5eee18b_3          66 KB\n",
      "    mkl_fft-1.3.11             |  py313hacdc0fc_1         228 KB\n",
      "    mkl_random-1.2.8           |  py313h8928b4f_1         327 KB\n",
      "    numexpr-2.11.0             |  py313h41d4191_1         206 KB\n",
      "    numpy-2.2.5                |  py313hc51ec59_1          13 KB\n",
      "    numpy-base-2.2.5           |  py313h0b9dd14_1         8.5 MB\n",
      "    tbb-2022.0.0               |       hdb19cb5_0         188 KB\n",
      "    tbb-devel-2022.0.0         |       hdb19cb5_0         1.1 MB\n",
      "    ------------------------------------------------------------\n",
      "                                           Total:       160.3 MB\n",
      "\n",
      "The following NEW packages will be INSTALLED:\n",
      "\n",
      "  _libgcc_mutex      pkgs/main/linux-64::_libgcc_mutex-0.1-main \n",
      "  _openmp_mutex      pkgs/main/linux-64::_openmp_mutex-5.1-1_gnu \n",
      "  blas               pkgs/main/linux-64::blas-1.0-mkl \n",
      "  bottleneck         pkgs/main/linux-64::bottleneck-1.4.2-py313hf0014fa_0 \n",
      "  bzip2              pkgs/main/linux-64::bzip2-1.0.8-h5eee18b_6 \n",
      "  ca-certificates    pkgs/main/linux-64::ca-certificates-2025.7.15-h06a4308_0 \n",
      "  expat              pkgs/main/linux-64::expat-2.7.1-h6a678d5_0 \n",
      "  intel-openmp       pkgs/main/linux-64::intel-openmp-2025.0.0-h06a4308_1171 \n",
      "  ld_impl_linux-64   pkgs/main/linux-64::ld_impl_linux-64-2.40-h12ee557_0 \n",
      "  libffi             pkgs/main/linux-64::libffi-3.4.4-h6a678d5_1 \n",
      "  libgcc-ng          pkgs/main/linux-64::libgcc-ng-11.2.0-h1234567_1 \n",
      "  libgomp            pkgs/main/linux-64::libgomp-11.2.0-h1234567_1 \n",
      "  libmpdec           pkgs/main/linux-64::libmpdec-4.0.0-h5eee18b_0 \n",
      "  libstdcxx-ng       pkgs/main/linux-64::libstdcxx-ng-11.2.0-h1234567_1 \n",
      "  libuuid            pkgs/main/linux-64::libuuid-1.41.5-h5eee18b_0 \n",
      "  libxcb             pkgs/main/linux-64::libxcb-1.17.0-h9b100fa_0 \n",
      "  mkl                pkgs/main/linux-64::mkl-2025.0.0-hacee8c2_941 \n",
      "  mkl-service        pkgs/main/linux-64::mkl-service-2.4.0-py313h5eee18b_3 \n",
      "  mkl_fft            pkgs/main/linux-64::mkl_fft-1.3.11-py313hacdc0fc_1 \n",
      "  mkl_random         pkgs/main/linux-64::mkl_random-1.2.8-py313h8928b4f_1 \n",
      "  ncurses            pkgs/main/linux-64::ncurses-6.5-h7934f7d_0 \n",
      "  numexpr            pkgs/main/linux-64::numexpr-2.11.0-py313h41d4191_1 \n",
      "  numpy              pkgs/main/linux-64::numpy-2.2.5-py313hc51ec59_1 \n",
      "  numpy-base         pkgs/main/linux-64::numpy-base-2.2.5-py313h0b9dd14_1 \n",
      "  openssl            pkgs/main/linux-64::openssl-3.0.17-h5eee18b_0 \n",
      "  pandas             pkgs/main/linux-64::pandas-2.3.2-py313h280b501_0 \n",
      "  pip                pkgs/main/noarch::pip-25.1-pyhc872135_2 \n",
      "  pthread-stubs      pkgs/main/linux-64::pthread-stubs-0.3-h0ce48e5_1 \n",
      "  python             pkgs/main/linux-64::python-3.13.5-h4612cfd_100_cp313 \n",
      "  python-dateutil    pkgs/main/linux-64::python-dateutil-2.9.0post0-py313h06a4308_2 \n",
      "  python-tzdata      pkgs/main/noarch::python-tzdata-2025.2-pyhd3eb1b0_0 \n",
      "  python_abi         pkgs/main/linux-64::python_abi-3.13-0_cp313 \n",
      "  pytz               pkgs/main/linux-64::pytz-2025.2-py313h06a4308_0 \n",
      "  readline           pkgs/main/linux-64::readline-8.3-hc2a1206_0 \n",
      "  setuptools         pkgs/main/linux-64::setuptools-72.1.0-py313h06a4308_0 \n",
      "  six                pkgs/main/linux-64::six-1.17.0-py313h06a4308_0 \n",
      "  sqlite             pkgs/main/linux-64::sqlite-3.50.2-hb25bd0a_1 \n",
      "  tbb                pkgs/main/linux-64::tbb-2022.0.0-hdb19cb5_0 \n",
      "  tbb-devel          pkgs/main/linux-64::tbb-devel-2022.0.0-hdb19cb5_0 \n",
      "  tk                 pkgs/main/linux-64::tk-8.6.15-h54e0aa7_0 \n",
      "  tzdata             pkgs/main/noarch::tzdata-2025b-h04d1e81_0 \n",
      "  wheel              pkgs/main/linux-64::wheel-0.45.1-py313h06a4308_0 \n",
      "  xorg-libx11        pkgs/main/linux-64::xorg-libx11-1.8.12-h9b100fa_1 \n",
      "  xorg-libxau        pkgs/main/linux-64::xorg-libxau-1.0.12-h9b100fa_0 \n",
      "  xorg-libxdmcp      pkgs/main/linux-64::xorg-libxdmcp-1.1.5-h9b100fa_0 \n",
      "  xorg-xorgproto     pkgs/main/linux-64::xorg-xorgproto-2024.1-h5eee18b_1 \n",
      "  xz                 pkgs/main/linux-64::xz-5.6.4-h5eee18b_1 \n",
      "  zlib               pkgs/main/linux-64::zlib-1.2.13-h5eee18b_1 \n",
      "\n",
      "\n",
      "Proceed ([y]/n)? ^C\n",
      "\n",
      "CondaSystemExit: \n",
      "Operation aborted.  Exiting.\n",
      "\n"
     ]
    }
   ],
   "source": [
    "!conda install pandas"
   ]
  },
  {
   "cell_type": "code",
   "execution_count": 4,
   "id": "08a39233-fd89-476f-aa04-a92e5b51c399",
   "metadata": {},
   "outputs": [
    {
     "ename": "NameError",
     "evalue": "name 'y' is not defined",
     "output_type": "error",
     "traceback": [
      "\u001b[31m---------------------------------------------------------------------------\u001b[39m",
      "\u001b[31mNameError\u001b[39m                                 Traceback (most recent call last)",
      "\u001b[36mCell\u001b[39m\u001b[36m \u001b[39m\u001b[32mIn[4]\u001b[39m\u001b[32m, line 1\u001b[39m\n\u001b[32m----> \u001b[39m\u001b[32m1\u001b[39m \u001b[43my\u001b[49m\n",
      "\u001b[31mNameError\u001b[39m: name 'y' is not defined"
     ]
    }
   ],
   "source": [
    "y\n"
   ]
  },
  {
   "cell_type": "markdown",
   "id": "1fd3bb5f-424f-46c7-b940-1419dec6afbc",
   "metadata": {},
   "source": [
    "## Create a user"
   ]
  },
  {
   "cell_type": "code",
   "execution_count": null,
   "id": "bbe8f0d4-17b1-465f-98b6-b3ef413185b9",
   "metadata": {},
   "outputs": [],
   "source": [
    "print('Hello')"
   ]
  },
  {
   "cell_type": "code",
   "execution_count": null,
   "id": "70e27ae3-3442-413b-82c5-1bbe353265cf",
   "metadata": {},
   "outputs": [],
   "source": []
  }
 ],
 "metadata": {
  "kernelspec": {
   "display_name": "Python 3 (ipykernel)",
   "language": "python",
   "name": "python3"
  },
  "language_info": {
   "codemirror_mode": {
    "name": "ipython",
    "version": 3
   },
   "file_extension": ".py",
   "mimetype": "text/x-python",
   "name": "python",
   "nbconvert_exporter": "python",
   "pygments_lexer": "ipython3",
   "version": "3.13.5"
  }
 },
 "nbformat": 4,
 "nbformat_minor": 5
}
